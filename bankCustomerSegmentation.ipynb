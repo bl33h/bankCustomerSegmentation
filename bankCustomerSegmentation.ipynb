{
 "cells": [
  {
   "cell_type": "markdown",
   "metadata": {},
   "source": [
    "# Laboratorio No. 4\n",
    "- Ricardo Méndez 21289\n",
    "- Sara Echeverría 21371\n",
    "- Francisco Castillo 21562\n",
    "- Melissa Pérez 21385\n",
    "\n",
    "Enlace al repositorio: [https://github.com/bl33h/bankCustomerSegmentation]"
   ]
  },
  {
   "cell_type": "markdown",
   "metadata": {},
   "source": [
    "# Task 1"
   ]
  },
  {
   "cell_type": "markdown",
   "metadata": {},
   "source": [
    "### ¿Qué son los grafos computacionales? y ¿cuál es su importancia para el cálculo de gradientes en aplicaciones como backpropagation?\n",
    "Los grafos computacionales son una representación visual y matemática donde sus nodos corresponden a una operación y los arcos los valores de entrada/salida. Se usan comúnmente para descibir algoritmos y modelos de aprendizaje automático. En el cálculo de gradientes toman un papel importante porque proporcionan una representación clara y estructurada de las operaciones. Lo cual ayuda a que las conexiones entre nodos representen el flujo de datos entre las operaciones. Además, los grafos computacionales permiten realizar el cálculo de los gradientes de forma óptima, lo que ayuda a entrenar modelos por medio de algoritmos.\n",
    "\n",
    "[Understanding Gradient Descent and Backpropagation](https://www.shramos.com/2019/02/understanding-gradient-descent-and_3.html)"
   ]
  },
  {
   "cell_type": "markdown",
   "metadata": {},
   "source": [
    "### Detalle cuales son los componentes y pasos que conforman una red neuronal. Con esto en mente, ¿cómo mejoraría el perceptrón que hizo en el laboratorio pasado?"
   ]
  },
  {
   "cell_type": "markdown",
   "metadata": {},
   "source": [
    "### ¿Cómo se selecciona el valor K usando el método de la silueta para el algoritmo de K-Means. Explique las fórmulas (ecuaciones) que lo componen así como las asumpciones, si hay."
   ]
  },
  {
   "cell_type": "markdown",
   "metadata": {},
   "source": [
    "### Investigue sobre Principal Component Analysis (PCA) y responda respecto a algoritmos como K-Means ¿Cómo podría ayudarle a mejorar la calidad de sus clusters cuando se usa K-Means?"
   ]
  },
  {
   "cell_type": "markdown",
   "metadata": {},
   "source": [
    "# Análisis exploratorio"
   ]
  },
  {
   "cell_type": "code",
   "execution_count": 190,
   "metadata": {
    "ExecuteTime": {
     "end_time": "2024-02-13T21:22:31.344457800Z",
     "start_time": "2024-02-13T21:22:31.180296800Z"
    }
   },
   "outputs": [],
   "source": [
    "import numpy as np\n",
    "import pandas as pd\n",
    "import seaborn as sns\n",
    "from collections import Counter\n",
    "import matplotlib.pyplot as plt\n",
    "from sklearn.metrics import accuracy_score\n",
    "from sklearn.neighbors import KNeighborsClassifier\n",
    "plt.style.use('ggplot')"
   ]
  },
  {
   "cell_type": "code",
   "execution_count": 191,
   "metadata": {
    "ExecuteTime": {
     "end_time": "2024-02-13T21:22:33.162786400Z",
     "start_time": "2024-02-13T21:22:31.348448900Z"
    }
   },
   "outputs": [
    {
     "data": {
      "text/plain": "  TransactionID CustomerID CustomerDOB CustGender CustLocation  \\\n0            T1   C5841053     10/1/94          F   JAMSHEDPUR   \n1            T2   C2142763      4/4/57          M      JHAJJAR   \n2            T3   C4417068    26/11/96          F       MUMBAI   \n3            T4   C5342380     14/9/73          F       MUMBAI   \n4            T5   C9031234     24/3/88          F  NAVI MUMBAI   \n\n   CustAccountBalance TransactionDate  TransactionTime  \\\n0            17819.05          2/8/16           143207   \n1             2270.69          2/8/16           141858   \n2            17874.44          2/8/16           142712   \n3           866503.21          2/8/16           142714   \n4             6714.43          2/8/16           181156   \n\n   TransactionAmount (INR)  \n0                     25.0  \n1                  27999.0  \n2                    459.0  \n3                   2060.0  \n4                   1762.5  ",
      "text/html": "<div>\n<style scoped>\n    .dataframe tbody tr th:only-of-type {\n        vertical-align: middle;\n    }\n\n    .dataframe tbody tr th {\n        vertical-align: top;\n    }\n\n    .dataframe thead th {\n        text-align: right;\n    }\n</style>\n<table border=\"1\" class=\"dataframe\">\n  <thead>\n    <tr style=\"text-align: right;\">\n      <th></th>\n      <th>TransactionID</th>\n      <th>CustomerID</th>\n      <th>CustomerDOB</th>\n      <th>CustGender</th>\n      <th>CustLocation</th>\n      <th>CustAccountBalance</th>\n      <th>TransactionDate</th>\n      <th>TransactionTime</th>\n      <th>TransactionAmount (INR)</th>\n    </tr>\n  </thead>\n  <tbody>\n    <tr>\n      <th>0</th>\n      <td>T1</td>\n      <td>C5841053</td>\n      <td>10/1/94</td>\n      <td>F</td>\n      <td>JAMSHEDPUR</td>\n      <td>17819.05</td>\n      <td>2/8/16</td>\n      <td>143207</td>\n      <td>25.0</td>\n    </tr>\n    <tr>\n      <th>1</th>\n      <td>T2</td>\n      <td>C2142763</td>\n      <td>4/4/57</td>\n      <td>M</td>\n      <td>JHAJJAR</td>\n      <td>2270.69</td>\n      <td>2/8/16</td>\n      <td>141858</td>\n      <td>27999.0</td>\n    </tr>\n    <tr>\n      <th>2</th>\n      <td>T3</td>\n      <td>C4417068</td>\n      <td>26/11/96</td>\n      <td>F</td>\n      <td>MUMBAI</td>\n      <td>17874.44</td>\n      <td>2/8/16</td>\n      <td>142712</td>\n      <td>459.0</td>\n    </tr>\n    <tr>\n      <th>3</th>\n      <td>T4</td>\n      <td>C5342380</td>\n      <td>14/9/73</td>\n      <td>F</td>\n      <td>MUMBAI</td>\n      <td>866503.21</td>\n      <td>2/8/16</td>\n      <td>142714</td>\n      <td>2060.0</td>\n    </tr>\n    <tr>\n      <th>4</th>\n      <td>T5</td>\n      <td>C9031234</td>\n      <td>24/3/88</td>\n      <td>F</td>\n      <td>NAVI MUMBAI</td>\n      <td>6714.43</td>\n      <td>2/8/16</td>\n      <td>181156</td>\n      <td>1762.5</td>\n    </tr>\n  </tbody>\n</table>\n</div>"
     },
     "execution_count": 191,
     "metadata": {},
     "output_type": "execute_result"
    }
   ],
   "source": [
    "df = pd.read_csv('data/bank_transactions.csv')\n",
    "df.head()"
   ]
  },
  {
   "cell_type": "code",
   "execution_count": 192,
   "metadata": {
    "ExecuteTime": {
     "end_time": "2024-02-13T21:22:33.414609100Z",
     "start_time": "2024-02-13T21:22:33.168770Z"
    }
   },
   "outputs": [
    {
     "name": "stdout",
     "output_type": "stream",
     "text": [
      "<class 'pandas.core.frame.DataFrame'>\n",
      "RangeIndex: 1048567 entries, 0 to 1048566\n",
      "Data columns (total 9 columns):\n",
      " #   Column                   Non-Null Count    Dtype  \n",
      "---  ------                   --------------    -----  \n",
      " 0   TransactionID            1048567 non-null  object \n",
      " 1   CustomerID               1048567 non-null  object \n",
      " 2   CustomerDOB              1045170 non-null  object \n",
      " 3   CustGender               1047467 non-null  object \n",
      " 4   CustLocation             1048416 non-null  object \n",
      " 5   CustAccountBalance       1046198 non-null  float64\n",
      " 6   TransactionDate          1048567 non-null  object \n",
      " 7   TransactionTime          1048567 non-null  int64  \n",
      " 8   TransactionAmount (INR)  1048567 non-null  float64\n",
      "dtypes: float64(2), int64(1), object(6)\n",
      "memory usage: 72.0+ MB\n",
      "None\n"
     ]
    }
   ],
   "source": [
    "print(df.info())"
   ]
  },
  {
   "cell_type": "code",
   "execution_count": 193,
   "metadata": {
    "ExecuteTime": {
     "end_time": "2024-02-13T21:22:33.646772Z",
     "start_time": "2024-02-13T21:22:33.416606900Z"
    }
   },
   "outputs": [
    {
     "name": "stdout",
     "output_type": "stream",
     "text": [
      "       CustAccountBalance  TransactionTime  TransactionAmount (INR)\n",
      "count        1.046198e+06     1.048567e+06             1.048567e+06\n",
      "mean         1.154035e+05     1.570875e+05             1.574335e+03\n",
      "std          8.464854e+05     5.126185e+04             6.574743e+03\n",
      "min          0.000000e+00     0.000000e+00             0.000000e+00\n",
      "25%          4.721760e+03     1.240300e+05             1.610000e+02\n",
      "50%          1.679218e+04     1.642260e+05             4.590300e+02\n",
      "75%          5.765736e+04     2.000100e+05             1.200000e+03\n",
      "max          1.150355e+08     2.359590e+05             1.560035e+06\n"
     ]
    }
   ],
   "source": [
    "print(df.describe())"
   ]
  },
  {
   "cell_type": "code",
   "execution_count": 194,
   "metadata": {
    "ExecuteTime": {
     "end_time": "2024-02-13T21:22:33.690720600Z",
     "start_time": "2024-02-13T21:22:33.644790Z"
    }
   },
   "outputs": [],
   "source": [
    "# relevant columns in the dataframe\n",
    "selected_features = [\n",
    "    'CustGender',               # To get the gender\n",
    "    'CustAccountBalance',       # To get the account balance\n",
    "    'TransactionTime',          # To get the time of the transaction (It's a timestamp of the transaction HHMMSS, needs to be transformed)\n",
    "    'TransactionAmount (INR)',  # To get the amount of the transaction in rupees\n",
    "]\n",
    "\n",
    "features = df[selected_features]"
   ]
  },
  {
   "cell_type": "code",
   "outputs": [
    {
     "data": {
      "text/plain": "CustGender                 1100\nCustAccountBalance         2369\nTransactionTime               0\nTransactionAmount (INR)       0\ndtype: int64"
     },
     "execution_count": 195,
     "metadata": {},
     "output_type": "execute_result"
    }
   ],
   "source": [
    "# check for missing values\n",
    "features.isnull().sum()"
   ],
   "metadata": {
    "collapsed": false,
    "ExecuteTime": {
     "end_time": "2024-02-13T21:22:33.742116400Z",
     "start_time": "2024-02-13T21:22:33.678753Z"
    }
   },
   "execution_count": 195
  },
  {
   "cell_type": "code",
   "outputs": [
    {
     "data": {
      "text/plain": "68"
     },
     "execution_count": 196,
     "metadata": {},
     "output_type": "execute_result"
    }
   ],
   "source": [
    "# check for duplicates\n",
    "features.duplicated().sum()"
   ],
   "metadata": {
    "collapsed": false,
    "ExecuteTime": {
     "end_time": "2024-02-13T21:22:34.113869200Z",
     "start_time": "2024-02-13T21:22:33.746093100Z"
    }
   },
   "execution_count": 196
  },
  {
   "cell_type": "code",
   "outputs": [],
   "source": [
    "# Remove duplicates and missing values\n",
    "features = features.dropna()\n",
    "features = features.drop_duplicates()"
   ],
   "metadata": {
    "collapsed": false,
    "ExecuteTime": {
     "end_time": "2024-02-13T21:22:34.609120800Z",
     "start_time": "2024-02-13T21:22:34.110877200Z"
    }
   },
   "execution_count": 197
  },
  {
   "cell_type": "code",
   "outputs": [
    {
     "data": {
      "text/plain": "CustGender                 1045031\nCustAccountBalance         1045031\nTransactionTime            1045031\nTransactionAmount (INR)    1045031\ndtype: int64"
     },
     "execution_count": 198,
     "metadata": {},
     "output_type": "execute_result"
    }
   ],
   "source": [
    "features.count()"
   ],
   "metadata": {
    "collapsed": false,
    "ExecuteTime": {
     "end_time": "2024-02-13T21:22:34.633954Z",
     "start_time": "2024-02-13T21:22:34.553752500Z"
    }
   },
   "execution_count": 198
  },
  {
   "cell_type": "markdown",
   "metadata": {},
   "source": [
    "### Encoding y transformación de valores"
   ]
  },
  {
   "cell_type": "code",
   "execution_count": 199,
   "metadata": {
    "ExecuteTime": {
     "end_time": "2024-02-13T21:22:34.673923Z",
     "start_time": "2024-02-13T21:22:34.620992800Z"
    }
   },
   "outputs": [],
   "source": [
    "# categorical features and change other values to its numerical representation\n",
    "features['CustGender'] = features['CustGender'].map({'F': 1, 'M': 0}) # 1 for female and 0 for male\n",
    "\n",
    "# rename column\n",
    "features.rename(\n",
    "    columns={\n",
    "        'CustGender': 'Female?',\n",
    "        'CustAccountBalance': 'Balance',\n",
    "        'TransactionAmount (INR)': 'Amount',\n",
    "    }, \n",
    "    inplace=True)"
   ]
  },
  {
   "cell_type": "code",
   "outputs": [
    {
     "data": {
      "text/plain": "Female?            1045030\nBalance            1045031\nTransactionTime    1045031\nAmount             1045031\ndtype: int64"
     },
     "execution_count": 200,
     "metadata": {},
     "output_type": "execute_result"
    }
   ],
   "source": [
    "features.count()"
   ],
   "metadata": {
    "collapsed": false,
    "ExecuteTime": {
     "end_time": "2024-02-13T21:22:34.702711200Z",
     "start_time": "2024-02-13T21:22:34.680906600Z"
    }
   },
   "execution_count": 200
  },
  {
   "cell_type": "code",
   "execution_count": 201,
   "metadata": {
    "ExecuteTime": {
     "end_time": "2024-02-13T21:22:35.557664600Z",
     "start_time": "2024-02-13T21:22:34.707700700Z"
    }
   },
   "outputs": [],
   "source": [
    "# To get the hour of the transaction. Since it's timestamp HHMMSS, needs to be transformed\n",
    "\n",
    "# Get the first 2 characters of the string\n",
    "features['TransactionTime'] = features['TransactionTime'].astype(str).str[:2]\n",
    "\n",
    "# Change the type of the column to int\n",
    "features['TransactionTime'] = features['TransactionTime'].astype(int)\n",
    "\n",
    "# Rename the column\n",
    "features.rename(columns={'TransactionTime': 'Hour'}, inplace=True)"
   ]
  },
  {
   "cell_type": "code",
   "outputs": [
    {
     "data": {
      "text/plain": "   Female?    Balance  Hour   Amount\n0      1.0   17819.05    14     25.0\n1      0.0    2270.69    14  27999.0\n2      1.0   17874.44    14    459.0\n3      1.0  866503.21    14   2060.0\n4      1.0    6714.43    18   1762.5",
      "text/html": "<div>\n<style scoped>\n    .dataframe tbody tr th:only-of-type {\n        vertical-align: middle;\n    }\n\n    .dataframe tbody tr th {\n        vertical-align: top;\n    }\n\n    .dataframe thead th {\n        text-align: right;\n    }\n</style>\n<table border=\"1\" class=\"dataframe\">\n  <thead>\n    <tr style=\"text-align: right;\">\n      <th></th>\n      <th>Female?</th>\n      <th>Balance</th>\n      <th>Hour</th>\n      <th>Amount</th>\n    </tr>\n  </thead>\n  <tbody>\n    <tr>\n      <th>0</th>\n      <td>1.0</td>\n      <td>17819.05</td>\n      <td>14</td>\n      <td>25.0</td>\n    </tr>\n    <tr>\n      <th>1</th>\n      <td>0.0</td>\n      <td>2270.69</td>\n      <td>14</td>\n      <td>27999.0</td>\n    </tr>\n    <tr>\n      <th>2</th>\n      <td>1.0</td>\n      <td>17874.44</td>\n      <td>14</td>\n      <td>459.0</td>\n    </tr>\n    <tr>\n      <th>3</th>\n      <td>1.0</td>\n      <td>866503.21</td>\n      <td>14</td>\n      <td>2060.0</td>\n    </tr>\n    <tr>\n      <th>4</th>\n      <td>1.0</td>\n      <td>6714.43</td>\n      <td>18</td>\n      <td>1762.5</td>\n    </tr>\n  </tbody>\n</table>\n</div>"
     },
     "execution_count": 202,
     "metadata": {},
     "output_type": "execute_result"
    }
   ],
   "source": [
    "features.head()"
   ],
   "metadata": {
    "collapsed": false,
    "ExecuteTime": {
     "end_time": "2024-02-13T21:22:35.578513Z",
     "start_time": "2024-02-13T21:22:35.557664600Z"
    }
   },
   "execution_count": 202
  },
  {
   "cell_type": "markdown",
   "metadata": {},
   "source": [
    "### Balanceo de clases\n",
    "\n",
    "En este caso la variable de interés 'CustGender' sí está desbalanceada, por lo que es pertinente aplicar una técnica para corregirlo."
   ]
  },
  {
   "cell_type": "code",
   "execution_count": 203,
   "metadata": {
    "ExecuteTime": {
     "end_time": "2024-02-13T21:22:35.631740Z",
     "start_time": "2024-02-13T21:22:35.577523700Z"
    }
   },
   "outputs": [
    {
     "data": {
      "text/plain": "Female?\n0.0    763769\n1.0    281261\nName: count, dtype: int64"
     },
     "execution_count": 203,
     "metadata": {},
     "output_type": "execute_result"
    }
   ],
   "source": [
    "features['Female?'].value_counts()"
   ]
  },
  {
   "cell_type": "code",
   "execution_count": 204,
   "metadata": {
    "ExecuteTime": {
     "end_time": "2024-02-13T21:22:35.751226600Z",
     "start_time": "2024-02-13T21:22:35.605811500Z"
    }
   },
   "outputs": [],
   "source": [
    "male = features[features['Female?'] == 0]\n",
    "female = features[features['Female?'] == 1]\n",
    "male = male.sample(n=len(female), random_state=7)\n",
    "features = pd.concat([male, female])"
   ]
  },
  {
   "cell_type": "code",
   "execution_count": 205,
   "metadata": {
    "ExecuteTime": {
     "end_time": "2024-02-13T21:22:35.752224200Z",
     "start_time": "2024-02-13T21:22:35.712677400Z"
    }
   },
   "outputs": [
    {
     "data": {
      "text/plain": "Female?\n0.0    281261\n1.0    281261\nName: count, dtype: int64"
     },
     "execution_count": 205,
     "metadata": {},
     "output_type": "execute_result"
    }
   ],
   "source": [
    "features['Female?'].value_counts()"
   ]
  },
  {
   "cell_type": "markdown",
   "metadata": {},
   "source": [
    "### Scaling\n",
    "Las magnitudes de los datos varían significativamente, por lo que es necesario escalar los valores de 'TransactionTimeSeconds' y 'TransactionAmount (INR)'."
   ]
  },
  {
   "cell_type": "code",
   "execution_count": 206,
   "metadata": {
    "ExecuteTime": {
     "end_time": "2024-02-13T21:22:35.753221300Z",
     "start_time": "2024-02-13T21:22:35.730032700Z"
    }
   },
   "outputs": [],
   "source": [
    "from sklearn.preprocessing import StandardScaler\n",
    "scaler = StandardScaler()"
   ]
  },
  {
   "cell_type": "code",
   "execution_count": 207,
   "metadata": {
    "ExecuteTime": {
     "end_time": "2024-02-13T21:22:35.844217400Z",
     "start_time": "2024-02-13T21:22:35.739205100Z"
    }
   },
   "outputs": [
    {
     "data": {
      "text/plain": "        Female?   Balance      Hour    Amount\n438920      0.0 -0.121836 -0.062229 -0.235851\n165307      0.0 -0.108922 -0.117575 -0.061158\n428353      0.0 -0.068824 -0.228267 -0.122073\n715304      0.0 -0.133332 -0.172921 -0.179645\n170370      0.0 -0.049026 -0.283612 -0.198185",
      "text/html": "<div>\n<style scoped>\n    .dataframe tbody tr th:only-of-type {\n        vertical-align: middle;\n    }\n\n    .dataframe tbody tr th {\n        vertical-align: top;\n    }\n\n    .dataframe thead th {\n        text-align: right;\n    }\n</style>\n<table border=\"1\" class=\"dataframe\">\n  <thead>\n    <tr style=\"text-align: right;\">\n      <th></th>\n      <th>Female?</th>\n      <th>Balance</th>\n      <th>Hour</th>\n      <th>Amount</th>\n    </tr>\n  </thead>\n  <tbody>\n    <tr>\n      <th>438920</th>\n      <td>0.0</td>\n      <td>-0.121836</td>\n      <td>-0.062229</td>\n      <td>-0.235851</td>\n    </tr>\n    <tr>\n      <th>165307</th>\n      <td>0.0</td>\n      <td>-0.108922</td>\n      <td>-0.117575</td>\n      <td>-0.061158</td>\n    </tr>\n    <tr>\n      <th>428353</th>\n      <td>0.0</td>\n      <td>-0.068824</td>\n      <td>-0.228267</td>\n      <td>-0.122073</td>\n    </tr>\n    <tr>\n      <th>715304</th>\n      <td>0.0</td>\n      <td>-0.133332</td>\n      <td>-0.172921</td>\n      <td>-0.179645</td>\n    </tr>\n    <tr>\n      <th>170370</th>\n      <td>0.0</td>\n      <td>-0.049026</td>\n      <td>-0.283612</td>\n      <td>-0.198185</td>\n    </tr>\n  </tbody>\n</table>\n</div>"
     },
     "execution_count": 207,
     "metadata": {},
     "output_type": "execute_result"
    }
   ],
   "source": [
    "# Create a copy of the dataframe with scaled features (for it to be used for clustering, classify, then analyze the data with the original features)\n",
    "scaled_features = features.copy()\n",
    "\n",
    "# Scale the features\n",
    "to_scale = ['Amount', 'Hour', 'Balance']\n",
    "\n",
    "# Scale the features\n",
    "scaled_features[to_scale] = scaler.fit_transform(scaled_features[to_scale])\n",
    "\n",
    "# Show the scaled features\n",
    "scaled_features.head()"
   ]
  },
  {
   "cell_type": "markdown",
   "metadata": {},
   "source": [
    "### Feature selection\n",
    "Debido a la naturaleza del objetivo para este dataframe, el cual es segmentar a clientes de una entidad bancaria para poder así tomar decisiones a nivel comercial y\n",
    "potenciar las operaciones de la empresa. Los features considerados de utilidad son:\n",
    "- 'Female?': para identificar el género del cliente (1 para mujer, 0 para hombre)\n",
    "- 'Amount': para identificar el monto de la transacción realizada por el cliente\n",
    "- 'Hour': para identificar la hora en la que se realizó la transacción\n",
    "- 'Balance': para identificar el valor de la cuenta del cliente\n",
    "\n",
    "En términos generales, las variables del dataframe no se encontraban en óptimas condiciones para la implementación del modelo no supervisado, por lo que se realizaron acciones como encoding, scaling y balanceo de clases. Los features expuestos anteriormente representan temas de interés para una entidad bancaria, ya que con estos es posible la identificación de fenómenos como las transacciones fraudulentas, permitiendo la visualización de alguna correlación entre el género, el monto de las transacciones realizadas por el cliente, el valor de la cuenta, entre otros. Por dicha razón, se seleccionaron los features: 'CustGender', 'TransactionAmount (INR)', 'TransactionTimeSeconds' y 'CustAccountBalance'."
   ]
  },
  {
   "cell_type": "markdown",
   "metadata": {},
   "source": [
    "# Task 2.1 K-Means"
   ]
  },
  {
   "cell_type": "markdown",
   "metadata": {},
   "source": [
    "# Task 2.2 Mixture Models"
   ]
  }
 ],
 "metadata": {
  "kernelspec": {
   "display_name": "myenv",
   "language": "python",
   "name": "myenv"
  },
  "language_info": {
   "codemirror_mode": {
    "name": "ipython",
    "version": 3
   },
   "file_extension": ".py",
   "mimetype": "text/x-python",
   "name": "python",
   "nbconvert_exporter": "python",
   "pygments_lexer": "ipython3",
   "version": "3.9.13"
  }
 },
 "nbformat": 4,
 "nbformat_minor": 2
}
