{
 "cells": [
  {
   "cell_type": "markdown",
   "metadata": {},
   "source": [
    "# Laboratorio No. 4\n",
    "- Ricardo Méndez 21289\n",
    "- Sara Echeverría 21371\n",
    "- Francisco Castillo 21562\n",
    "- Melissa Pérez 21385\n",
    "\n",
    "Enlace al repositorio: [https://github.com/bl33h/bankCustomerSegmentation]"
   ]
  },
  {
   "cell_type": "markdown",
   "metadata": {},
   "source": [
    "# Task 1"
   ]
  },
  {
   "cell_type": "markdown",
   "metadata": {},
   "source": [
    "### ¿Qué son los grafos computacionales? y ¿cuál es su importancia para el cálculo de gradientes en aplicaciones como backpropagation?\n",
    "Los grafos computacionales son una representación visual y matemática donde sus nodos corresponden a una operación y los arcos los valores de entrada/salida. Se usan comúnmente para descibir algoritmos y modelos de aprendizaje automático. En el cálculo de gradientes toman un papel importante porque proporcionan una representación clara y estructurada de las operaciones. Lo cual ayuda a que las conexiones entre nodos representen el flujo de datos entre las operaciones. Además, los grafos computacionales permiten realizar el cálculo de los gradientes de forma óptima, lo que ayuda a entrenar modelos por medio de algoritmos.\n",
    "\n",
    "[Understanding Gradient Descent and Backpropagation](https://www.shramos.com/2019/02/understanding-gradient-descent-and_3.html)"
   ]
  },
  {
   "cell_type": "markdown",
   "metadata": {},
   "source": [
    "### Detalle cuales son los componentes y pasos que conforman una red neuronal. Con esto en mente, ¿cómo mejoraría el perceptrón que hizo en el laboratorio pasado?\n",
    "### Componentes\n",
    "- Input (imágenes, datos, etc)\n",
    "- Input layer\n",
    "- Output layer\n",
    "- Hidden layers\n",
    "- Cada una de estas tienen un bias, es decir, un valor numérico asociado\n",
    "- Conexiones entre capas llamadas canales, estas cuentan con pesos\n",
    "- Funciones de activación, las cuales ayudan a determinar si un valor de una neurona pasa a la siguiente capa.\n",
    "\n",
    "### Pasos que conforman una red neuronal\n",
    "- Inicialización: Se establecen los pesos y los sesgos con valores pequeños aleatorios.\n",
    "- Forward propagation:  Calcula la salida de la red para un conjunto de entradas, pasando los valores a través de las capas de la red y aplicando funciones de activación.\n",
    "- Activación: Determina la salida de las neuronas. El perceptrón utiliza una función de paso, pero las redes neuronales más complejas pueden usar elementos más sofisticados como ReLu.\n",
    "- Cálculo de error: Se calcula la diferencia entre la salida esperada y la salida obtenida de la red.\n",
    "- Backpropagation: Ajusta los pesos y sesgos de la red para minimizar el error, utilizando el gradiente del error respecto a cada peso y sesgo. Siendo sus pasos:\n",
    "    - Calcular el error\n",
    "    - Aplicar el algoritmo de gradiente descendiente\n",
    "        - Este algoritmo irá calculando la derivada de una función en cada punto donde se encuentre y luego irá moviéndose en dirección a donde la derivada se reduzca\n",
    "    - Actualizar los pesos\n",
    "    - Actualizar los bias\n",
    "- Optimización: Actualiza los pesos y sesgos para minimizar la función de costo.\n",
    "\n",
    "### Tomando en consideración lo anteriormente mencionado, se sugieren las siguientes mejoras para el perceptrón del Laboratorio No. 3:\n",
    "- Mejorar la activación: La función de paso unitario limita la capacidad del modelo para realizar ajustes finos durante el entrenamiento. Usar una función de activación como la sigmoid para permitir gradaciones en la clasificación podría mejorar la precisión.\n",
    "- Regularización: Aplicar una técnica para prevenir el sobreajuste del modelo.\n",
    "- Optimización de hiperparámetros: El código utiliza valores fijos para la tasa de aprendizaje y el número de iteraciones. Utilizar técnicas de búsqueda de hiperparámetros, como la validación cruzada, podría encontrar valores que mejoren el rendimiento del modelo.\n",
    "- Scalating: Estandarizar las características de entrada para que tengan la misma escala para acelerar la convergencia.\n",
    "- Inicializar los pesos utilizando una estrategia: La inicialización de He o Glorot, podría contribuir a una convergencia más rápida y efectiva, dándole un enfoque más sofisticado al modelo.\n",
    "- Utilizar otras métricas de evaluación como complemento: Además de la accuracy, considerar métricas como la curva ROC o el área bajo la curva (AUC) para tener una visión más completa del rendimiento del modelo en tareas de clasificación binaria."
   ]
  },
  {
   "cell_type": "markdown",
   "metadata": {},
   "source": [
    "![pic](media/pic.png)"
   ]
  },
  {
   "cell_type": "markdown",
   "metadata": {},
   "source": [
    "(Artificial Intelligence: Principles and Techniques Ke Yuan - Machine Learning & Artificial Intelligence MLAI4DS - University of Glasgow; IBM documentation, n.d.)"
   ]
  },
  {
   "cell_type": "markdown",
   "metadata": {},
   "source": [
    "### ¿Cómo se selecciona el valor K usando el método de la silueta para el algoritmo de K-Means. Explique las fórmulas (ecuaciones) que lo componen así como las asumpciones, si hay."
   ]
  },
  {
   "cell_type": "markdown",
   "metadata": {},
   "source": [
    "La aplicación del algoritmo al dataset conlleva su utilización múltiples veces, variando el valor de K, que representa el número de clústeres.\n",
    "\n",
    "### Cálculo de la silueta para cada punto\n",
    "- a (i) La distancia media entre un punto ‘i’ y todos los demás puntos en el mismo clúster.\n",
    "- b (i) La distancia media mínima de ‘i’ a todos los puntos en otro clúster, de tal manera que ‘i’  no es miembro de ese clúster. Esta distancia se mide para el clúster más cercano al punto.\n",
    "\n",
    "###  Ecuación del coeficiente de silueta para un punto"
   ]
  },
  {
   "cell_type": "markdown",
   "metadata": {},
   "source": [
    "![pic2](media/pic2.png)"
   ]
  },
  {
   "cell_type": "markdown",
   "metadata": {},
   "source": [
    "###  Cálculo promedio de la silueta para cada valor de ‘K’\n",
    "Se calcula el promedio del coeficiente de silueta para todos los puntos en dataset para cada valor de K, este brinda qué tan apropiadamente se han agrupado los datos en clústeres.\n",
    "\n",
    "###  ¿Cómo se interpreta el valor óptimo para ‘K’?\n",
    "El valor óptimo maximiza el promedio del coeficiente de silueta sobre todos los valores de K considerados, por lo que un valor alto indica un mejor ajuste entre los puntos dentro de los clústeres y una mayor separación entre estos.\n",
    "\n",
    "###  Consideraciones\n",
    "- Se asume que los clústeres son separables y bien definidos en el espacio de los features, si estos se traslapan significativamente, el método de la silueta podría no ser eficaz.\n",
    "- Este método se basa en el cálculo de distancias (usualmente distancia euclidiana) entre puntos en el espacio de features, por lo que se asume que el espacio es métrico y que las distancias son un buen indicador de la similitud entre puntos.\n",
    "- Se recomienda normalizar los datos antes de aplicar K-Means, especialmente si las características del dataframe tienen escalas muy diferentes. Esto asegura que todas la contribución equitativamente de las columnas de interés al cálculo de las distancias.\n",
    "- La elección del valor de ‘K’ también debería considerar el conocimiento del dominio y las limitaciones computacionales, especialmente para conjuntos de datos muy grandes."
   ]
  },
  {
   "cell_type": "markdown",
   "metadata": {},
   "source": [
    "(Mahendru, 2021; What is the relation between k-means clustering and PCA?, n.d.)"
   ]
  },
  {
   "cell_type": "markdown",
   "metadata": {},
   "source": [
    "### Investigue sobre Principal Component Analysis (PCA) y responda respecto a algoritmos como K-Means ¿Cómo podría ayudarle a mejorar la calidad de sus clusters cuando se usa K-Means?"
   ]
  },
  {
   "cell_type": "markdown",
   "metadata": {},
   "source": [
    "En términos generales, (PCA) es una técnica de reducción de dimensionalidad utilizada para disminuir la cantidad de variables en un dataframe, manteniendo al mismo tiempo la mayor cantidad de información posible. \n",
    "\n",
    "Este método podría ayudar a mejorar la calidad de los clústers si se utiliza K-Means, al mantener los features que aportan más a la variación en el conjunto de datos. Esto ya que al aplicar K-Means con características reducidas, es posible mitigar o reducir el efecto de la dimensionalidad, obteniendo clústeres más significativos. De igual manera, puede facilitar su visualización e interpretación.\n",
    "\n",
    "Otro aspecto relevante sería que los cálculos para determinar la distancia entre los puntos y los centroides serían más rápidos y eficientes, pues se contaría con menos dimensiones. Asimismo se minimiza el ruido,  al ignorar las componentes con varianzas bajas y se resaltan las estructuras subyacentes en los datos, dando como resultado la formación de clústeres más cohesivos, separados y datos más estables.\n",
    "\n",
    "### Consideraciones\n",
    "- Es crucial elegir adecuadamente el número de componentes principales a retener, pues se pueden presentar los escenarios extremos de pérdida de información importante para los clústeres y/o presencia de dimensionalidad.\n",
    "- PCA es sensible a la escala de variables, por lo que es pertinente estandarizar los datos para asegurar que cada característica contribuya equitativamente al análisis."
   ]
  },
  {
   "cell_type": "markdown",
   "metadata": {},
   "source": [
    "(Jha, 2021)"
   ]
  },
  {
   "cell_type": "markdown",
   "metadata": {},
   "source": [
    "### Referencias \n",
    "- CS221: Artificial Intelligence: Principles and Techniques Ke Yuan - Machine Learning & Artificial Intelligence MLAI4DS - University of Glasgow\n",
    "- IBM documentation. (n.d.). https://www.ibm.com/docs/en/spss-modeler/18.0.0?topic=networks-neural-model\n",
    "- Jha. (2021). Implementation of Principal Component Analysis(PCA) in K means clustering. Medium. https://medium.com/analytics-vidhya/implementation-of-principal-component-analysis-pca-in-k-means-clustering-b4bc0aa79cb6\n",
    "- Mahendru. (2021). How to determine the optimal K for K-Means? - Analytics Vidhya - Medium. Medium. https://medium.com/analytics-vidhya/how-to-determine-the-optimal-k-for-k-means-708505d204eb\n",
    "- What is the relation between k-means clustering and PCA? (n.d.). Cross Validated. https://stats.stackexchange.com/questions/183236/what-is-the-relation-between-k-means-clustering-and-pca#:~:text=K-means%20is%20a%20least,least-squares%20cluster%20membership%20vector."
   ]
  },
  {
   "cell_type": "markdown",
   "metadata": {},
   "source": [
    "# Análisis exploratorio"
   ]
  },
  {
   "cell_type": "code",
   "execution_count": 1,
   "metadata": {
    "ExecuteTime": {
     "end_time": "2024-02-14T04:23:10.051537900Z",
     "start_time": "2024-02-14T04:23:09.575651Z"
    }
   },
   "outputs": [
    {
     "name": "stderr",
     "output_type": "stream",
     "text": [
      "C:\\Users\\euroc\\AppData\\Local\\Temp\\ipykernel_1492\\3314469405.py:2: DeprecationWarning: \n",
      "Pyarrow will become a required dependency of pandas in the next major release of pandas (pandas 3.0),\n",
      "(to allow more performant data types, such as the Arrow string type, and better interoperability with other libraries)\n",
      "but was not found to be installed on your system.\n",
      "If this would cause problems for you,\n",
      "please provide us feedback at https://github.com/pandas-dev/pandas/issues/54466\n",
      "        \n",
      "  import pandas as pd\n"
     ]
    }
   ],
   "source": [
    "import numpy as np\n",
    "import pandas as pd\n",
    "import seaborn as sns\n",
    "from collections import Counter\n",
    "import matplotlib.pyplot as plt\n",
    "from sklearn.metrics import accuracy_score\n",
    "from sklearn.neighbors import KNeighborsClassifier\n",
    "\n",
    "plt.style.use('ggplot')"
   ]
  },
  {
   "cell_type": "code",
   "execution_count": 2,
   "metadata": {
    "ExecuteTime": {
     "end_time": "2024-02-14T04:23:12.291066900Z",
     "start_time": "2024-02-14T04:23:10.053547Z"
    }
   },
   "outputs": [
    {
     "data": {
      "text/html": [
       "<div>\n",
       "<style scoped>\n",
       "    .dataframe tbody tr th:only-of-type {\n",
       "        vertical-align: middle;\n",
       "    }\n",
       "\n",
       "    .dataframe tbody tr th {\n",
       "        vertical-align: top;\n",
       "    }\n",
       "\n",
       "    .dataframe thead th {\n",
       "        text-align: right;\n",
       "    }\n",
       "</style>\n",
       "<table border=\"1\" class=\"dataframe\">\n",
       "  <thead>\n",
       "    <tr style=\"text-align: right;\">\n",
       "      <th></th>\n",
       "      <th>TransactionID</th>\n",
       "      <th>CustomerID</th>\n",
       "      <th>CustomerDOB</th>\n",
       "      <th>CustGender</th>\n",
       "      <th>CustLocation</th>\n",
       "      <th>CustAccountBalance</th>\n",
       "      <th>TransactionDate</th>\n",
       "      <th>TransactionTime</th>\n",
       "      <th>TransactionAmount (INR)</th>\n",
       "    </tr>\n",
       "  </thead>\n",
       "  <tbody>\n",
       "    <tr>\n",
       "      <th>0</th>\n",
       "      <td>T1</td>\n",
       "      <td>C5841053</td>\n",
       "      <td>10/1/94</td>\n",
       "      <td>F</td>\n",
       "      <td>JAMSHEDPUR</td>\n",
       "      <td>17819.05</td>\n",
       "      <td>2/8/16</td>\n",
       "      <td>143207</td>\n",
       "      <td>25.0</td>\n",
       "    </tr>\n",
       "    <tr>\n",
       "      <th>1</th>\n",
       "      <td>T2</td>\n",
       "      <td>C2142763</td>\n",
       "      <td>4/4/57</td>\n",
       "      <td>M</td>\n",
       "      <td>JHAJJAR</td>\n",
       "      <td>2270.69</td>\n",
       "      <td>2/8/16</td>\n",
       "      <td>141858</td>\n",
       "      <td>27999.0</td>\n",
       "    </tr>\n",
       "    <tr>\n",
       "      <th>2</th>\n",
       "      <td>T3</td>\n",
       "      <td>C4417068</td>\n",
       "      <td>26/11/96</td>\n",
       "      <td>F</td>\n",
       "      <td>MUMBAI</td>\n",
       "      <td>17874.44</td>\n",
       "      <td>2/8/16</td>\n",
       "      <td>142712</td>\n",
       "      <td>459.0</td>\n",
       "    </tr>\n",
       "    <tr>\n",
       "      <th>3</th>\n",
       "      <td>T4</td>\n",
       "      <td>C5342380</td>\n",
       "      <td>14/9/73</td>\n",
       "      <td>F</td>\n",
       "      <td>MUMBAI</td>\n",
       "      <td>866503.21</td>\n",
       "      <td>2/8/16</td>\n",
       "      <td>142714</td>\n",
       "      <td>2060.0</td>\n",
       "    </tr>\n",
       "    <tr>\n",
       "      <th>4</th>\n",
       "      <td>T5</td>\n",
       "      <td>C9031234</td>\n",
       "      <td>24/3/88</td>\n",
       "      <td>F</td>\n",
       "      <td>NAVI MUMBAI</td>\n",
       "      <td>6714.43</td>\n",
       "      <td>2/8/16</td>\n",
       "      <td>181156</td>\n",
       "      <td>1762.5</td>\n",
       "    </tr>\n",
       "  </tbody>\n",
       "</table>\n",
       "</div>"
      ],
      "text/plain": [
       "  TransactionID CustomerID CustomerDOB CustGender CustLocation  \\\n",
       "0            T1   C5841053     10/1/94          F   JAMSHEDPUR   \n",
       "1            T2   C2142763      4/4/57          M      JHAJJAR   \n",
       "2            T3   C4417068    26/11/96          F       MUMBAI   \n",
       "3            T4   C5342380     14/9/73          F       MUMBAI   \n",
       "4            T5   C9031234     24/3/88          F  NAVI MUMBAI   \n",
       "\n",
       "   CustAccountBalance TransactionDate  TransactionTime  \\\n",
       "0            17819.05          2/8/16           143207   \n",
       "1             2270.69          2/8/16           141858   \n",
       "2            17874.44          2/8/16           142712   \n",
       "3           866503.21          2/8/16           142714   \n",
       "4             6714.43          2/8/16           181156   \n",
       "\n",
       "   TransactionAmount (INR)  \n",
       "0                     25.0  \n",
       "1                  27999.0  \n",
       "2                    459.0  \n",
       "3                   2060.0  \n",
       "4                   1762.5  "
      ]
     },
     "execution_count": 2,
     "metadata": {},
     "output_type": "execute_result"
    }
   ],
   "source": [
    "df = pd.read_csv('data/bank_transactions.csv')\n",
    "df.head()"
   ]
  },
  {
   "cell_type": "code",
   "execution_count": 53,
   "metadata": {
    "ExecuteTime": {
     "end_time": "2024-02-14T04:23:12.521630900Z",
     "start_time": "2024-02-14T04:23:12.294061500Z"
    }
   },
   "outputs": [
    {
     "name": "stdout",
     "output_type": "stream",
     "text": [
      "<class 'pandas.core.frame.DataFrame'>\n",
      "RangeIndex: 1048567 entries, 0 to 1048566\n",
      "Data columns (total 9 columns):\n",
      " #   Column                   Non-Null Count    Dtype  \n",
      "---  ------                   --------------    -----  \n",
      " 0   TransactionID            1048567 non-null  object \n",
      " 1   CustomerID               1048567 non-null  object \n",
      " 2   CustomerDOB              1045170 non-null  object \n",
      " 3   CustGender               1047467 non-null  object \n",
      " 4   CustLocation             1048416 non-null  object \n",
      " 5   CustAccountBalance       1046198 non-null  float64\n",
      " 6   TransactionDate          1048567 non-null  object \n",
      " 7   TransactionTime          1048567 non-null  int64  \n",
      " 8   TransactionAmount (INR)  1048567 non-null  float64\n",
      "dtypes: float64(2), int64(1), object(6)\n",
      "memory usage: 72.0+ MB\n",
      "None\n"
     ]
    }
   ],
   "source": [
    "print(df.info())"
   ]
  },
  {
   "cell_type": "code",
   "execution_count": 54,
   "metadata": {
    "ExecuteTime": {
     "end_time": "2024-02-14T04:23:12.721491800Z",
     "start_time": "2024-02-14T04:23:12.524627Z"
    }
   },
   "outputs": [
    {
     "name": "stdout",
     "output_type": "stream",
     "text": [
      "       CustAccountBalance  TransactionTime  TransactionAmount (INR)\n",
      "count        1.046198e+06     1.048567e+06             1.048567e+06\n",
      "mean         1.154035e+05     1.570875e+05             1.574335e+03\n",
      "std          8.464854e+05     5.126185e+04             6.574743e+03\n",
      "min          0.000000e+00     0.000000e+00             0.000000e+00\n",
      "25%          4.721760e+03     1.240300e+05             1.610000e+02\n",
      "50%          1.679218e+04     1.642260e+05             4.590300e+02\n",
      "75%          5.765736e+04     2.000100e+05             1.200000e+03\n",
      "max          1.150355e+08     2.359590e+05             1.560035e+06\n"
     ]
    }
   ],
   "source": [
    "print(df.describe())"
   ]
  },
  {
   "cell_type": "code",
   "execution_count": 3,
   "metadata": {
    "ExecuteTime": {
     "end_time": "2024-02-14T04:23:12.770942300Z",
     "start_time": "2024-02-14T04:23:12.722492400Z"
    }
   },
   "outputs": [],
   "source": [
    "# relevant columns in the dataframe\n",
    "selected_features = [\n",
    "    'CustomerDOB',  # To get the age of the customer\n",
    "    'CustGender',  # To get the gender\n",
    "    'CustAccountBalance',  # To get the account balance\n",
    "    'TransactionAmount (INR)',  # To get the amount of the transaction in rupees\n",
    "]\n",
    "\n",
    "features = df[selected_features]"
   ]
  },
  {
   "cell_type": "code",
   "execution_count": 4,
   "metadata": {
    "ExecuteTime": {
     "end_time": "2024-02-14T04:23:12.859146100Z",
     "start_time": "2024-02-14T04:23:12.757969Z"
    },
    "collapsed": false
   },
   "outputs": [
    {
     "data": {
      "text/plain": [
       "CustomerDOB                3397\n",
       "CustGender                 1100\n",
       "CustAccountBalance         2369\n",
       "TransactionAmount (INR)       0\n",
       "dtype: int64"
      ]
     },
     "execution_count": 4,
     "metadata": {},
     "output_type": "execute_result"
    }
   ],
   "source": [
    "# check for missing values\n",
    "features.isnull().sum()"
   ]
  },
  {
   "cell_type": "code",
   "execution_count": 5,
   "metadata": {
    "ExecuteTime": {
     "end_time": "2024-02-14T04:23:12.980853600Z",
     "start_time": "2024-02-14T04:23:12.857646300Z"
    },
    "collapsed": false
   },
   "outputs": [],
   "source": [
    "# Remove missing values\n",
    "features = features.dropna()"
   ]
  },
  {
   "cell_type": "code",
   "execution_count": 6,
   "metadata": {
    "ExecuteTime": {
     "end_time": "2024-02-14T04:23:13.061700300Z",
     "start_time": "2024-02-14T04:23:12.982857700Z"
    },
    "collapsed": false
   },
   "outputs": [
    {
     "data": {
      "text/plain": [
       "CustomerDOB                1041765\n",
       "CustGender                 1041765\n",
       "CustAccountBalance         1041765\n",
       "TransactionAmount (INR)    1041765\n",
       "dtype: int64"
      ]
     },
     "execution_count": 6,
     "metadata": {},
     "output_type": "execute_result"
    }
   ],
   "source": [
    "features.count()"
   ]
  },
  {
   "cell_type": "markdown",
   "metadata": {},
   "source": [
    "### Encoding y transformación de valores"
   ]
  },
  {
   "cell_type": "code",
   "execution_count": 7,
   "metadata": {
    "ExecuteTime": {
     "end_time": "2024-02-14T04:23:13.107174100Z",
     "start_time": "2024-02-14T04:23:13.064692800Z"
    }
   },
   "outputs": [],
   "source": [
    "# categorical features and change other values to its numerical representation\n",
    "features['CustGender'] = features['CustGender'].map({'F': 1, 'M': 0})  # 1 for female and 0 for male\n",
    "\n",
    "# rename column\n",
    "features.rename(\n",
    "    columns={\n",
    "        'CustGender': 'Female?',\n",
    "        'CustAccountBalance': 'Balance',\n",
    "        'TransactionAmount (INR)': 'Amount',\n",
    "    },\n",
    "    inplace=True)"
   ]
  },
  {
   "cell_type": "code",
   "execution_count": 8,
   "metadata": {
    "ExecuteTime": {
     "end_time": "2024-02-14T04:23:13.243401800Z",
     "start_time": "2024-02-14T04:23:13.107174100Z"
    },
    "collapsed": false
   },
   "outputs": [
    {
     "data": {
      "text/plain": [
       "CustomerDOB    1041764\n",
       "Female?        1041764\n",
       "Balance        1041764\n",
       "Amount         1041764\n",
       "dtype: int64"
      ]
     },
     "execution_count": 8,
     "metadata": {},
     "output_type": "execute_result"
    }
   ],
   "source": [
    "features = features.dropna()\n",
    "features.count()"
   ]
  },
  {
   "cell_type": "code",
   "execution_count": 9,
   "metadata": {
    "ExecuteTime": {
     "end_time": "2024-02-14T04:23:55.115637500Z",
     "start_time": "2024-02-14T04:23:13.246394300Z"
    },
    "collapsed": false
   },
   "outputs": [
    {
     "name": "stderr",
     "output_type": "stream",
     "text": [
      "C:\\Users\\euroc\\AppData\\Local\\Temp\\ipykernel_1492\\1050743629.py:1: UserWarning: Could not infer format, so each element will be parsed individually, falling back to `dateutil`. To ensure parsing is consistent and as-expected, please specify a format.\n",
      "  features[\"CustomerDOB\"] = pd.to_datetime(features[\"CustomerDOB\"])\n"
     ]
    }
   ],
   "source": [
    "features[\"CustomerDOB\"] = pd.to_datetime(features[\"CustomerDOB\"])"
   ]
  },
  {
   "cell_type": "code",
   "execution_count": 10,
   "metadata": {
    "ExecuteTime": {
     "end_time": "2024-02-14T04:23:55.449608Z",
     "start_time": "2024-02-14T04:23:55.119138200Z"
    }
   },
   "outputs": [],
   "source": [
    "# Get the Customer age\n",
    "features = features.drop(features[features['CustomerDOB'] == '1/1/1800'].index, axis=0)\n",
    "features.loc[features.CustomerDOB.dt.year >= 2022, 'CustomerDOB'] = features.loc[features.CustomerDOB.dt.year >= 2022, 'CustomerDOB'] - pd.DateOffset(years=100)\n",
    "features['CustomerAge'] = ((pd.to_datetime('today') - features['CustomerDOB']).dt.days / 365.25).round(0)"
   ]
  },
  {
   "cell_type": "code",
   "execution_count": 63,
   "metadata": {
    "ExecuteTime": {
     "end_time": "2024-02-14T04:23:55.458811900Z",
     "start_time": "2024-02-14T04:23:55.449608Z"
    },
    "collapsed": false
   },
   "outputs": [
    {
     "data": {
      "text/html": [
       "<div>\n",
       "<style scoped>\n",
       "    .dataframe tbody tr th:only-of-type {\n",
       "        vertical-align: middle;\n",
       "    }\n",
       "\n",
       "    .dataframe tbody tr th {\n",
       "        vertical-align: top;\n",
       "    }\n",
       "\n",
       "    .dataframe thead th {\n",
       "        text-align: right;\n",
       "    }\n",
       "</style>\n",
       "<table border=\"1\" class=\"dataframe\">\n",
       "  <thead>\n",
       "    <tr style=\"text-align: right;\">\n",
       "      <th></th>\n",
       "      <th>CustomerDOB</th>\n",
       "      <th>Female?</th>\n",
       "      <th>Balance</th>\n",
       "      <th>Amount</th>\n",
       "      <th>CustomerAge</th>\n",
       "    </tr>\n",
       "  </thead>\n",
       "  <tbody>\n",
       "    <tr>\n",
       "      <th>0</th>\n",
       "      <td>1994-10-01</td>\n",
       "      <td>1.0</td>\n",
       "      <td>17819.05</td>\n",
       "      <td>25.0</td>\n",
       "      <td>29.0</td>\n",
       "    </tr>\n",
       "    <tr>\n",
       "      <th>1</th>\n",
       "      <td>1957-04-04</td>\n",
       "      <td>0.0</td>\n",
       "      <td>2270.69</td>\n",
       "      <td>27999.0</td>\n",
       "      <td>67.0</td>\n",
       "    </tr>\n",
       "    <tr>\n",
       "      <th>2</th>\n",
       "      <td>1996-11-26</td>\n",
       "      <td>1.0</td>\n",
       "      <td>17874.44</td>\n",
       "      <td>459.0</td>\n",
       "      <td>27.0</td>\n",
       "    </tr>\n",
       "    <tr>\n",
       "      <th>3</th>\n",
       "      <td>1973-09-14</td>\n",
       "      <td>1.0</td>\n",
       "      <td>866503.21</td>\n",
       "      <td>2060.0</td>\n",
       "      <td>50.0</td>\n",
       "    </tr>\n",
       "    <tr>\n",
       "      <th>4</th>\n",
       "      <td>1988-03-24</td>\n",
       "      <td>1.0</td>\n",
       "      <td>6714.43</td>\n",
       "      <td>1762.5</td>\n",
       "      <td>36.0</td>\n",
       "    </tr>\n",
       "  </tbody>\n",
       "</table>\n",
       "</div>"
      ],
      "text/plain": [
       "  CustomerDOB  Female?    Balance   Amount  CustomerAge\n",
       "0  1994-10-01      1.0   17819.05     25.0         29.0\n",
       "1  1957-04-04      0.0    2270.69  27999.0         67.0\n",
       "2  1996-11-26      1.0   17874.44    459.0         27.0\n",
       "3  1973-09-14      1.0  866503.21   2060.0         50.0\n",
       "4  1988-03-24      1.0    6714.43   1762.5         36.0"
      ]
     },
     "execution_count": 63,
     "metadata": {},
     "output_type": "execute_result"
    }
   ],
   "source": [
    "features.head()"
   ]
  },
  {
   "cell_type": "code",
   "execution_count": 11,
   "metadata": {
    "ExecuteTime": {
     "end_time": "2024-02-14T04:23:55.575700500Z",
     "start_time": "2024-02-14T04:23:55.464434700Z"
    },
    "collapsed": false
   },
   "outputs": [],
   "source": [
    "# Drop NaN values\n",
    "features = features.dropna()\n",
    "\n",
    "# Drop the CustomerDOB column\n",
    "features = features.drop('CustomerDOB', axis=1)"
   ]
  },
  {
   "cell_type": "code",
   "execution_count": 65,
   "metadata": {
    "ExecuteTime": {
     "end_time": "2024-02-14T04:23:55.577695200Z",
     "start_time": "2024-02-14T04:23:55.544302300Z"
    },
    "collapsed": false
   },
   "outputs": [
    {
     "data": {
      "text/html": [
       "<div>\n",
       "<style scoped>\n",
       "    .dataframe tbody tr th:only-of-type {\n",
       "        vertical-align: middle;\n",
       "    }\n",
       "\n",
       "    .dataframe tbody tr th {\n",
       "        vertical-align: top;\n",
       "    }\n",
       "\n",
       "    .dataframe thead th {\n",
       "        text-align: right;\n",
       "    }\n",
       "</style>\n",
       "<table border=\"1\" class=\"dataframe\">\n",
       "  <thead>\n",
       "    <tr style=\"text-align: right;\">\n",
       "      <th></th>\n",
       "      <th>Female?</th>\n",
       "      <th>Balance</th>\n",
       "      <th>Amount</th>\n",
       "      <th>CustomerAge</th>\n",
       "    </tr>\n",
       "  </thead>\n",
       "  <tbody>\n",
       "    <tr>\n",
       "      <th>0</th>\n",
       "      <td>1.0</td>\n",
       "      <td>17819.05</td>\n",
       "      <td>25.0</td>\n",
       "      <td>29.0</td>\n",
       "    </tr>\n",
       "    <tr>\n",
       "      <th>1</th>\n",
       "      <td>0.0</td>\n",
       "      <td>2270.69</td>\n",
       "      <td>27999.0</td>\n",
       "      <td>67.0</td>\n",
       "    </tr>\n",
       "    <tr>\n",
       "      <th>2</th>\n",
       "      <td>1.0</td>\n",
       "      <td>17874.44</td>\n",
       "      <td>459.0</td>\n",
       "      <td>27.0</td>\n",
       "    </tr>\n",
       "    <tr>\n",
       "      <th>3</th>\n",
       "      <td>1.0</td>\n",
       "      <td>866503.21</td>\n",
       "      <td>2060.0</td>\n",
       "      <td>50.0</td>\n",
       "    </tr>\n",
       "    <tr>\n",
       "      <th>4</th>\n",
       "      <td>1.0</td>\n",
       "      <td>6714.43</td>\n",
       "      <td>1762.5</td>\n",
       "      <td>36.0</td>\n",
       "    </tr>\n",
       "  </tbody>\n",
       "</table>\n",
       "</div>"
      ],
      "text/plain": [
       "   Female?    Balance   Amount  CustomerAge\n",
       "0      1.0   17819.05     25.0         29.0\n",
       "1      0.0    2270.69  27999.0         67.0\n",
       "2      1.0   17874.44    459.0         27.0\n",
       "3      1.0  866503.21   2060.0         50.0\n",
       "4      1.0    6714.43   1762.5         36.0"
      ]
     },
     "execution_count": 65,
     "metadata": {},
     "output_type": "execute_result"
    }
   ],
   "source": [
    "features.head()"
   ]
  },
  {
   "cell_type": "code",
   "execution_count": 66,
   "metadata": {
    "ExecuteTime": {
     "end_time": "2024-02-14T04:23:55.757311300Z",
     "start_time": "2024-02-14T04:23:55.557077900Z"
    },
    "collapsed": false
   },
   "outputs": [
    {
     "data": {
      "text/html": [
       "<div>\n",
       "<style scoped>\n",
       "    .dataframe tbody tr th:only-of-type {\n",
       "        vertical-align: middle;\n",
       "    }\n",
       "\n",
       "    .dataframe tbody tr th {\n",
       "        vertical-align: top;\n",
       "    }\n",
       "\n",
       "    .dataframe thead th {\n",
       "        text-align: right;\n",
       "    }\n",
       "</style>\n",
       "<table border=\"1\" class=\"dataframe\">\n",
       "  <thead>\n",
       "    <tr style=\"text-align: right;\">\n",
       "      <th></th>\n",
       "      <th>Female?</th>\n",
       "      <th>Balance</th>\n",
       "      <th>Amount</th>\n",
       "      <th>CustomerAge</th>\n",
       "    </tr>\n",
       "  </thead>\n",
       "  <tbody>\n",
       "    <tr>\n",
       "      <th>count</th>\n",
       "      <td>985473.000000</td>\n",
       "      <td>9.854730e+05</td>\n",
       "      <td>9.854730e+05</td>\n",
       "      <td>985473.000000</td>\n",
       "    </tr>\n",
       "    <tr>\n",
       "      <th>mean</th>\n",
       "      <td>0.276922</td>\n",
       "      <td>1.060590e+05</td>\n",
       "      <td>1.452449e+03</td>\n",
       "      <td>38.653658</td>\n",
       "    </tr>\n",
       "    <tr>\n",
       "      <th>std</th>\n",
       "      <td>0.447478</td>\n",
       "      <td>8.178443e+05</td>\n",
       "      <td>6.139422e+03</td>\n",
       "      <td>8.763662</td>\n",
       "    </tr>\n",
       "    <tr>\n",
       "      <th>min</th>\n",
       "      <td>0.000000</td>\n",
       "      <td>0.000000e+00</td>\n",
       "      <td>0.000000e+00</td>\n",
       "      <td>3.000000</td>\n",
       "    </tr>\n",
       "    <tr>\n",
       "      <th>25%</th>\n",
       "      <td>0.000000</td>\n",
       "      <td>4.581130e+03</td>\n",
       "      <td>1.510000e+02</td>\n",
       "      <td>33.000000</td>\n",
       "    </tr>\n",
       "    <tr>\n",
       "      <th>50%</th>\n",
       "      <td>0.000000</td>\n",
       "      <td>1.600759e+04</td>\n",
       "      <td>4.310000e+02</td>\n",
       "      <td>36.000000</td>\n",
       "    </tr>\n",
       "    <tr>\n",
       "      <th>75%</th>\n",
       "      <td>1.000000</td>\n",
       "      <td>5.375908e+04</td>\n",
       "      <td>1.125000e+03</td>\n",
       "      <td>42.000000</td>\n",
       "    </tr>\n",
       "    <tr>\n",
       "      <th>max</th>\n",
       "      <td>1.000000</td>\n",
       "      <td>1.150355e+08</td>\n",
       "      <td>1.560035e+06</td>\n",
       "      <td>101.000000</td>\n",
       "    </tr>\n",
       "  </tbody>\n",
       "</table>\n",
       "</div>"
      ],
      "text/plain": [
       "             Female?       Balance        Amount    CustomerAge\n",
       "count  985473.000000  9.854730e+05  9.854730e+05  985473.000000\n",
       "mean        0.276922  1.060590e+05  1.452449e+03      38.653658\n",
       "std         0.447478  8.178443e+05  6.139422e+03       8.763662\n",
       "min         0.000000  0.000000e+00  0.000000e+00       3.000000\n",
       "25%         0.000000  4.581130e+03  1.510000e+02      33.000000\n",
       "50%         0.000000  1.600759e+04  4.310000e+02      36.000000\n",
       "75%         1.000000  5.375908e+04  1.125000e+03      42.000000\n",
       "max         1.000000  1.150355e+08  1.560035e+06     101.000000"
      ]
     },
     "execution_count": 66,
     "metadata": {},
     "output_type": "execute_result"
    }
   ],
   "source": [
    "features.describe()"
   ]
  },
  {
   "cell_type": "markdown",
   "metadata": {},
   "source": [
    "### Balanceo de clases\n",
    "\n",
    "En este caso la variable de interés 'CustGender' sí está desbalanceada, por lo que es pertinente aplicar una técnica para corregirlo."
   ]
  },
  {
   "cell_type": "code",
   "execution_count": 12,
   "metadata": {
    "ExecuteTime": {
     "end_time": "2024-02-14T04:23:55.780153300Z",
     "start_time": "2024-02-14T04:23:55.759858700Z"
    }
   },
   "outputs": [
    {
     "data": {
      "text/plain": [
       "Female?\n",
       "0.0    712574\n",
       "1.0    272899\n",
       "Name: count, dtype: int64"
      ]
     },
     "execution_count": 12,
     "metadata": {},
     "output_type": "execute_result"
    }
   ],
   "source": [
    "features['Female?'].value_counts()"
   ]
  },
  {
   "cell_type": "code",
   "execution_count": 13,
   "metadata": {
    "ExecuteTime": {
     "end_time": "2024-02-14T04:23:55.900998700Z",
     "start_time": "2024-02-14T04:23:55.780153300Z"
    }
   },
   "outputs": [],
   "source": [
    "male = features[features['Female?'] == 0]\n",
    "female = features[features['Female?'] == 1]\n",
    "male = male.sample(n=len(female), random_state=7)\n",
    "features = pd.concat([male, female])"
   ]
  },
  {
   "cell_type": "code",
   "execution_count": 14,
   "metadata": {
    "ExecuteTime": {
     "end_time": "2024-02-14T04:23:55.908563Z",
     "start_time": "2024-02-14T04:23:55.871824200Z"
    }
   },
   "outputs": [
    {
     "data": {
      "text/plain": [
       "Female?\n",
       "0.0    272899\n",
       "1.0    272899\n",
       "Name: count, dtype: int64"
      ]
     },
     "execution_count": 14,
     "metadata": {},
     "output_type": "execute_result"
    }
   ],
   "source": [
    "features['Female?'].value_counts()"
   ]
  },
  {
   "cell_type": "markdown",
   "metadata": {},
   "source": [
    "### Scaling\n",
    "Las magnitudes de los datos varían significativamente, por lo que es necesario escalar los valores de 'TransactionTimeSeconds' y 'TransactionAmount (INR)'."
   ]
  },
  {
   "cell_type": "code",
   "execution_count": 15,
   "metadata": {
    "ExecuteTime": {
     "end_time": "2024-02-14T04:23:55.909618500Z",
     "start_time": "2024-02-14T04:23:55.888722900Z"
    }
   },
   "outputs": [],
   "source": [
    "from sklearn.preprocessing import StandardScaler\n",
    "\n",
    "scaler = StandardScaler()"
   ]
  },
  {
   "cell_type": "code",
   "execution_count": 16,
   "metadata": {
    "ExecuteTime": {
     "end_time": "2024-02-14T04:23:55.997193300Z",
     "start_time": "2024-02-14T04:23:55.897254600Z"
    }
   },
   "outputs": [
    {
     "data": {
      "text/html": [
       "<div>\n",
       "<style scoped>\n",
       "    .dataframe tbody tr th:only-of-type {\n",
       "        vertical-align: middle;\n",
       "    }\n",
       "\n",
       "    .dataframe tbody tr th {\n",
       "        vertical-align: top;\n",
       "    }\n",
       "\n",
       "    .dataframe thead th {\n",
       "        text-align: right;\n",
       "    }\n",
       "</style>\n",
       "<table border=\"1\" class=\"dataframe\">\n",
       "  <thead>\n",
       "    <tr style=\"text-align: right;\">\n",
       "      <th></th>\n",
       "      <th>Female?</th>\n",
       "      <th>Balance</th>\n",
       "      <th>Amount</th>\n",
       "      <th>CustomerAge</th>\n",
       "    </tr>\n",
       "  </thead>\n",
       "  <tbody>\n",
       "    <tr>\n",
       "      <th>974270</th>\n",
       "      <td>0.0</td>\n",
       "      <td>-0.107183</td>\n",
       "      <td>-0.238270</td>\n",
       "      <td>0.169393</td>\n",
       "    </tr>\n",
       "    <tr>\n",
       "      <th>622443</th>\n",
       "      <td>0.0</td>\n",
       "      <td>-0.113533</td>\n",
       "      <td>-0.179216</td>\n",
       "      <td>0.508833</td>\n",
       "    </tr>\n",
       "    <tr>\n",
       "      <th>4768</th>\n",
       "      <td>0.0</td>\n",
       "      <td>-0.086650</td>\n",
       "      <td>-0.135219</td>\n",
       "      <td>-0.622633</td>\n",
       "    </tr>\n",
       "    <tr>\n",
       "      <th>37123</th>\n",
       "      <td>0.0</td>\n",
       "      <td>-0.116716</td>\n",
       "      <td>0.118060</td>\n",
       "      <td>0.508833</td>\n",
       "    </tr>\n",
       "    <tr>\n",
       "      <th>185587</th>\n",
       "      <td>0.0</td>\n",
       "      <td>-0.127482</td>\n",
       "      <td>-0.127022</td>\n",
       "      <td>0.282539</td>\n",
       "    </tr>\n",
       "  </tbody>\n",
       "</table>\n",
       "</div>"
      ],
      "text/plain": [
       "        Female?   Balance    Amount  CustomerAge\n",
       "974270      0.0 -0.107183 -0.238270     0.169393\n",
       "622443      0.0 -0.113533 -0.179216     0.508833\n",
       "4768        0.0 -0.086650 -0.135219    -0.622633\n",
       "37123       0.0 -0.116716  0.118060     0.508833\n",
       "185587      0.0 -0.127482 -0.127022     0.282539"
      ]
     },
     "execution_count": 16,
     "metadata": {},
     "output_type": "execute_result"
    }
   ],
   "source": [
    "# Create a copy of the dataframe with scaled features (for it to be used for clustering, classify, then analyze the data with the original features)\n",
    "scaled_features = features.copy()\n",
    "\n",
    "# Scale the features\n",
    "to_scale = ['Amount', 'CustomerAge', 'Balance']\n",
    "\n",
    "# Scale the features\n",
    "scaled_features[to_scale] = scaler.fit_transform(scaled_features[to_scale])\n",
    "\n",
    "# Show the scaled features\n",
    "scaled_features.head()"
   ]
  },
  {
   "cell_type": "markdown",
   "metadata": {},
   "source": [
    "### Feature selection\n",
    "Debido a la naturaleza del objetivo para este dataframe, el cual es segmentar a clientes de una entidad bancaria para poder así tomar decisiones a nivel comercial y\n",
    "potenciar las operaciones de la empresa. Los features considerados de utilidad son:\n",
    "- 'Female?': para identificar el género del cliente (1 para mujer, 0 para hombre)\n",
    "- 'Amount': para identificar el monto de la transacción realizada por el cliente\n",
    "- 'CustomerAge': para identificar la edad del cliente\n",
    "- 'Balance': para identificar el valor de la cuenta del cliente\n",
    "\n",
    "En términos generales, las variables del dataframe no se encontraban en óptimas condiciones para la implementación del modelo no supervisado, por lo que se realizaron acciones como encoding, scaling y balanceo de clases. Los features expuestos anteriormente representan temas de interés para una entidad bancaria, ya que con estos es posible la identificación de grupos de clientela, permitiendo la visualización de alguna correlación entre el género, el monto de las transacciones realizadas por el cliente, el valor de la cuenta, entre otros. Por dicha razón, se seleccionaron los features indicadas."
   ]
  },
  {
   "cell_type": "markdown",
   "metadata": {},
   "source": [
    "# Task 2.1 K-Means\n",
    "\n",
    "## ¿Es necesario hacer un split del dataset? ¿Por qué?\n",
    "No, el objetivo de hacer un split de los datos es el poder evaluar el desempeño del modelo. Al ser no supervisado, el hacer esto puede ser contraproducente, ya que no se cuenta con un target para evaluar el desempeño del modelo. Por lo que se puede utilizar el dataset completo para el entrenamiento del modelo."
   ]
  },
  {
   "cell_type": "markdown",
   "metadata": {
    "collapsed": false
   },
   "source": [
    "## Selección del número de clusters"
   ]
  },
  {
   "cell_type": "code",
   "execution_count": 22,
   "metadata": {
    "ExecuteTime": {
     "end_time": "2024-02-14T04:23:56.120865800Z",
     "start_time": "2024-02-14T04:23:55.978648Z"
    },
    "collapsed": false
   },
   "outputs": [],
   "source": [
    "from sklearn.cluster import KMeans"
   ]
  },
  {
   "cell_type": "code",
   "execution_count": 23,
   "metadata": {
    "ExecuteTime": {
     "end_time": "2024-02-14T04:23:59.623521900Z",
     "start_time": "2024-02-14T04:23:56.079782Z"
    },
    "collapsed": false
   },
   "outputs": [],
   "source": [
    "# List to save the inertia for each number of clusters\n",
    "inertia_values = []\n",
    "\n",
    "# Range of cluster numbers to check\n",
    "cluster_range = range(2, 11)\n",
    "\n",
    "for n_clusters in cluster_range:\n",
    "    kmeans = KMeans(n_clusters=n_clusters, random_state=7)\n",
    "    kmeans.fit(scaled_features)\n",
    "    inertia_values.append(kmeans.inertia_)"
   ]
  },
  {
   "cell_type": "code",
   "execution_count": 24,
   "metadata": {
    "ExecuteTime": {
     "end_time": "2024-02-14T04:23:59.844144Z",
     "start_time": "2024-02-14T04:23:59.627511500Z"
    },
    "collapsed": false
   },
   "outputs": [
    {
     "data": {
      "image/png": "[encoded data removed]",
      "text/plain": [
       "<Figure size 640x480 with 1 Axes>"
      ]
     },
     "metadata": {},
     "output_type": "display_data"
    }
   ],
   "source": [
    "# Plotting the inertia values\n",
    "plt.plot(cluster_range, inertia_values, 'bx-')\n",
    "plt.xlabel('Number of clusters')\n",
    "plt.ylabel('Inertia')\n",
    "plt.title('Elbow Method For Optimal Number of Clusters')\n",
    "plt.show()"
   ]
  },
  {
   "cell_type": "markdown",
   "metadata": {
    "collapsed": false
   },
   "source": [
    "El número ideal de clusters es de 5."
   ]
  },
  {
   "cell_type": "markdown",
   "metadata": {
    "collapsed": false
   },
   "source": [
    "## Modelo sin Librerías"
   ]
  },
  {
   "cell_type": "code",
   "execution_count": 21,
   "metadata": {
    "ExecuteTime": {
     "end_time": "2024-02-14T04:23:59.858679400Z",
     "start_time": "2024-02-14T04:23:59.850684900Z"
    },
    "collapsed": false
   },
   "outputs": [],
   "source": [
    "def get_euclidean_distance(x1, x2):\n",
    "    return np.sqrt(np.sum((x1 - x2) ** 2))\n",
    "\n",
    "\n",
    "class KMeansScratch:\n",
    "    # Reference: https://www.youtube.com/watch?v=6UF5Ysk_2gk\n",
    "    def __init__(self, K=5, max_iterations=100):\n",
    "        self.K = K\n",
    "        self.max_iterations = max_iterations\n",
    "\n",
    "        # Each list contains the samples indices for the respective cluster\n",
    "        self.clusters = [[] for _ in range(self.K)]\n",
    "\n",
    "        # the centers (mean feature vector) for each cluster\n",
    "        self.centroids = []\n",
    "\n",
    "    def predict(self, X: pd.DataFrame):\n",
    "        self.X = X\n",
    "        self.n_samples, self.n_features = X.shape\n",
    "\n",
    "        # Get random samples to be the initial centroids\n",
    "        random_samples_ids = np.random.choice(self.n_samples, self.K, replace=False)\n",
    "        self.centroids = [self.X.iloc[id] for id in random_samples_ids]\n",
    "\n",
    "        # Optimize clusters\n",
    "        for _ in range(self.max_iterations):\n",
    "            # Assign samples to the closest centroids to create clusters\n",
    "            self.clusters = self._create_clusters(self.centroids)\n",
    "\n",
    "            # Calculate new centroids from the clusters\n",
    "            old_centroids = self.centroids\n",
    "            self.centroids = self._get_centroids(self.clusters)\n",
    "\n",
    "            # Check if clusters have changed\n",
    "            if self._has_converged(old_centroids, self.centroids):\n",
    "                break\n",
    "\n",
    "        # Classify samples as the index of their clusters\n",
    "        return self._get_cluster_labels(self.clusters)\n",
    "\n",
    "    def _create_clusters(self, centroids: list):\n",
    "        clusters = [[] for _ in range(self.K)]\n",
    "\n",
    "        for id, sample in enumerate(self.X.values):\n",
    "            # Get the closest centroid for the sample\n",
    "            centroid_id = self._closest_centroid(sample, centroids)\n",
    "            clusters[centroid_id].append(id)\n",
    "\n",
    "        return clusters\n",
    "\n",
    "    def _closest_centroid(self, sample, centroids):\n",
    "        distances = [get_euclidean_distance(sample, point) for point in centroids]\n",
    "        closest_id = np.argmin(distances)\n",
    "\n",
    "        return closest_id\n",
    "\n",
    "    def _get_centroids(self, clusters: list):\n",
    "        centroids = np.zeros((self.K, self.n_features))\n",
    "        for cluster_id, cluster in enumerate(clusters):\n",
    "            cluster_mean = np.mean(self.X.iloc[cluster], axis=0)\n",
    "            centroids[cluster_id] = cluster_mean\n",
    "        return centroids\n",
    "\n",
    "    def _has_converged(self, old_centroids: list, centroids: list):\n",
    "        distances = [get_euclidean_distance(old_centroids[i], centroids[i]) for i in range(self.K)]\n",
    "        return sum(distances) == 0\n",
    "\n",
    "    def _get_cluster_labels(self, clusters: list):\n",
    "        labels = np.empty(self.n_samples)\n",
    "\n",
    "        for cluster_id, cluster in enumerate(clusters):\n",
    "            for sample_id in cluster:\n",
    "                labels[sample_id] = cluster_id\n",
    "\n",
    "        return labels\n"
   ]
  },
  {
   "cell_type": "code",
   "execution_count": 22,
   "metadata": {
    "ExecuteTime": {
     "end_time": "2024-02-14T04:38:29.418878200Z",
     "start_time": "2024-02-14T04:23:59.857105600Z"
    },
    "collapsed": false
   },
   "outputs": [
    {
     "ename": "KeyboardInterrupt",
     "evalue": "",
     "output_type": "error",
     "traceback": [
      "\u001b[1;31m---------------------------------------------------------------------------\u001b[0m",
      "\u001b[1;31mKeyboardInterrupt\u001b[0m                         Traceback (most recent call last)",
      "Cell \u001b[1;32mIn[22], line 3\u001b[0m\n\u001b[0;32m      1\u001b[0m kmeans_scratch \u001b[38;5;241m=\u001b[39m KMeansScratch()\n\u001b[1;32m----> 3\u001b[0m predicted_clusters \u001b[38;5;241m=\u001b[39m \u001b[43mkmeans_scratch\u001b[49m\u001b[38;5;241;43m.\u001b[39;49m\u001b[43mpredict\u001b[49m\u001b[43m(\u001b[49m\u001b[43mscaled_features\u001b[49m\u001b[43m)\u001b[49m\n",
      "Cell \u001b[1;32mIn[21], line 28\u001b[0m, in \u001b[0;36mKMeansScratch.predict\u001b[1;34m(self, X)\u001b[0m\n\u001b[0;32m     25\u001b[0m \u001b[38;5;66;03m# Optimize clusters\u001b[39;00m\n\u001b[0;32m     26\u001b[0m \u001b[38;5;28;01mfor\u001b[39;00m _ \u001b[38;5;129;01min\u001b[39;00m \u001b[38;5;28mrange\u001b[39m(\u001b[38;5;28mself\u001b[39m\u001b[38;5;241m.\u001b[39mmax_iterations):\n\u001b[0;32m     27\u001b[0m     \u001b[38;5;66;03m# Assign samples to the closest centroids to create clusters\u001b[39;00m\n\u001b[1;32m---> 28\u001b[0m     \u001b[38;5;28mself\u001b[39m\u001b[38;5;241m.\u001b[39mclusters \u001b[38;5;241m=\u001b[39m \u001b[38;5;28;43mself\u001b[39;49m\u001b[38;5;241;43m.\u001b[39;49m\u001b[43m_create_clusters\u001b[49m\u001b[43m(\u001b[49m\u001b[38;5;28;43mself\u001b[39;49m\u001b[38;5;241;43m.\u001b[39;49m\u001b[43mcentroids\u001b[49m\u001b[43m)\u001b[49m\n\u001b[0;32m     30\u001b[0m     \u001b[38;5;66;03m# Calculate new centroids from the clusters\u001b[39;00m\n\u001b[0;32m     31\u001b[0m     old_centroids \u001b[38;5;241m=\u001b[39m \u001b[38;5;28mself\u001b[39m\u001b[38;5;241m.\u001b[39mcentroids\n",
      "Cell \u001b[1;32mIn[21], line 46\u001b[0m, in \u001b[0;36mKMeansScratch._create_clusters\u001b[1;34m(self, centroids)\u001b[0m\n\u001b[0;32m     42\u001b[0m clusters \u001b[38;5;241m=\u001b[39m [[] \u001b[38;5;28;01mfor\u001b[39;00m _ \u001b[38;5;129;01min\u001b[39;00m \u001b[38;5;28mrange\u001b[39m(\u001b[38;5;28mself\u001b[39m\u001b[38;5;241m.\u001b[39mK)]\n\u001b[0;32m     44\u001b[0m \u001b[38;5;28;01mfor\u001b[39;00m \u001b[38;5;28mid\u001b[39m, sample \u001b[38;5;129;01min\u001b[39;00m \u001b[38;5;28menumerate\u001b[39m(\u001b[38;5;28mself\u001b[39m\u001b[38;5;241m.\u001b[39mX\u001b[38;5;241m.\u001b[39mvalues):\n\u001b[0;32m     45\u001b[0m     \u001b[38;5;66;03m# Get the closest centroid for the sample\u001b[39;00m\n\u001b[1;32m---> 46\u001b[0m     centroid_id \u001b[38;5;241m=\u001b[39m \u001b[38;5;28;43mself\u001b[39;49m\u001b[38;5;241;43m.\u001b[39;49m\u001b[43m_closest_centroid\u001b[49m\u001b[43m(\u001b[49m\u001b[43msample\u001b[49m\u001b[43m,\u001b[49m\u001b[43m \u001b[49m\u001b[43mcentroids\u001b[49m\u001b[43m)\u001b[49m\n\u001b[0;32m     47\u001b[0m     clusters[centroid_id]\u001b[38;5;241m.\u001b[39mappend(\u001b[38;5;28mid\u001b[39m)\n\u001b[0;32m     49\u001b[0m \u001b[38;5;28;01mreturn\u001b[39;00m clusters\n",
      "Cell \u001b[1;32mIn[21], line 53\u001b[0m, in \u001b[0;36mKMeansScratch._closest_centroid\u001b[1;34m(self, sample, centroids)\u001b[0m\n\u001b[0;32m     51\u001b[0m \u001b[38;5;28;01mdef\u001b[39;00m \u001b[38;5;21m_closest_centroid\u001b[39m(\u001b[38;5;28mself\u001b[39m, sample, centroids):\n\u001b[0;32m     52\u001b[0m     distances \u001b[38;5;241m=\u001b[39m [get_euclidean_distance(sample, point) \u001b[38;5;28;01mfor\u001b[39;00m point \u001b[38;5;129;01min\u001b[39;00m centroids]\n\u001b[1;32m---> 53\u001b[0m     closest_id \u001b[38;5;241m=\u001b[39m \u001b[43mnp\u001b[49m\u001b[38;5;241;43m.\u001b[39;49m\u001b[43margmin\u001b[49m\u001b[43m(\u001b[49m\u001b[43mdistances\u001b[49m\u001b[43m)\u001b[49m\n\u001b[0;32m     55\u001b[0m     \u001b[38;5;28;01mreturn\u001b[39;00m closest_id\n",
      "File \u001b[1;32mc:\\Users\\euroc\\Desktop\\U\\IA\\IA-Phising-Website-Detection\\.venv\\lib\\site-packages\\numpy\\core\\fromnumeric.py:1325\u001b[0m, in \u001b[0;36margmin\u001b[1;34m(a, axis, out, keepdims)\u001b[0m\n\u001b[0;32m   1238\u001b[0m \u001b[38;5;250m\u001b[39m\u001b[38;5;124;03m\"\"\"\u001b[39;00m\n\u001b[0;32m   1239\u001b[0m \u001b[38;5;124;03mReturns the indices of the minimum values along an axis.\u001b[39;00m\n\u001b[0;32m   1240\u001b[0m \n\u001b[1;32m   (...)\u001b[0m\n\u001b[0;32m   1322\u001b[0m \u001b[38;5;124;03m(2, 1, 4)\u001b[39;00m\n\u001b[0;32m   1323\u001b[0m \u001b[38;5;124;03m\"\"\"\u001b[39;00m\n\u001b[0;32m   1324\u001b[0m kwds \u001b[38;5;241m=\u001b[39m {\u001b[38;5;124m'\u001b[39m\u001b[38;5;124mkeepdims\u001b[39m\u001b[38;5;124m'\u001b[39m: keepdims} \u001b[38;5;28;01mif\u001b[39;00m keepdims \u001b[38;5;129;01mis\u001b[39;00m \u001b[38;5;129;01mnot\u001b[39;00m np\u001b[38;5;241m.\u001b[39m_NoValue \u001b[38;5;28;01melse\u001b[39;00m {}\n\u001b[1;32m-> 1325\u001b[0m \u001b[38;5;28;01mreturn\u001b[39;00m _wrapfunc(a, \u001b[38;5;124m'\u001b[39m\u001b[38;5;124margmin\u001b[39m\u001b[38;5;124m'\u001b[39m, axis\u001b[38;5;241m=\u001b[39maxis, out\u001b[38;5;241m=\u001b[39mout, \u001b[38;5;241m*\u001b[39m\u001b[38;5;241m*\u001b[39mkwds)\n",
      "File \u001b[1;32mc:\\Users\\euroc\\Desktop\\U\\IA\\IA-Phising-Website-Detection\\.venv\\lib\\site-packages\\numpy\\core\\fromnumeric.py:56\u001b[0m, in \u001b[0;36m_wrapfunc\u001b[1;34m(obj, method, *args, **kwds)\u001b[0m\n\u001b[0;32m     54\u001b[0m bound \u001b[38;5;241m=\u001b[39m \u001b[38;5;28mgetattr\u001b[39m(obj, method, \u001b[38;5;28;01mNone\u001b[39;00m)\n\u001b[0;32m     55\u001b[0m \u001b[38;5;28;01mif\u001b[39;00m bound \u001b[38;5;129;01mis\u001b[39;00m \u001b[38;5;28;01mNone\u001b[39;00m:\n\u001b[1;32m---> 56\u001b[0m     \u001b[38;5;28;01mreturn\u001b[39;00m _wrapit(obj, method, \u001b[38;5;241m*\u001b[39margs, \u001b[38;5;241m*\u001b[39m\u001b[38;5;241m*\u001b[39mkwds)\n\u001b[0;32m     58\u001b[0m \u001b[38;5;28;01mtry\u001b[39;00m:\n\u001b[0;32m     59\u001b[0m     \u001b[38;5;28;01mreturn\u001b[39;00m bound(\u001b[38;5;241m*\u001b[39margs, \u001b[38;5;241m*\u001b[39m\u001b[38;5;241m*\u001b[39mkwds)\n",
      "File \u001b[1;32mc:\\Users\\euroc\\Desktop\\U\\IA\\IA-Phising-Website-Detection\\.venv\\lib\\site-packages\\numpy\\core\\fromnumeric.py:45\u001b[0m, in \u001b[0;36m_wrapit\u001b[1;34m(obj, method, *args, **kwds)\u001b[0m\n\u001b[0;32m     43\u001b[0m \u001b[38;5;28;01mexcept\u001b[39;00m \u001b[38;5;167;01mAttributeError\u001b[39;00m:\n\u001b[0;32m     44\u001b[0m     wrap \u001b[38;5;241m=\u001b[39m \u001b[38;5;28;01mNone\u001b[39;00m\n\u001b[1;32m---> 45\u001b[0m result \u001b[38;5;241m=\u001b[39m \u001b[38;5;28mgetattr\u001b[39m(asarray(obj), method)(\u001b[38;5;241m*\u001b[39margs, \u001b[38;5;241m*\u001b[39m\u001b[38;5;241m*\u001b[39mkwds)\n\u001b[0;32m     46\u001b[0m \u001b[38;5;28;01mif\u001b[39;00m wrap:\n\u001b[0;32m     47\u001b[0m     \u001b[38;5;28;01mif\u001b[39;00m \u001b[38;5;129;01mnot\u001b[39;00m \u001b[38;5;28misinstance\u001b[39m(result, mu\u001b[38;5;241m.\u001b[39mndarray):\n",
      "\u001b[1;31mKeyboardInterrupt\u001b[0m: "
     ]
    }
   ],
   "source": [
    "kmeans_scratch = KMeansScratch()\n",
    "\n",
    "predicted_clusters = kmeans_scratch.predict(scaled_features)"
   ]
  },
  {
   "cell_type": "markdown",
   "metadata": {
    "collapsed": false
   },
   "source": [
    "### Visualización de los Clusters generados"
   ]
  },
  {
   "cell_type": "code",
   "execution_count": 27,
   "metadata": {
    "ExecuteTime": {
     "end_time": "2024-02-14T04:38:47.771722100Z",
     "start_time": "2024-02-14T04:38:29.421388600Z"
    },
    "collapsed": false
   },
   "outputs": [
    {
     "data": {
      "image/png": "[encoded data removed]",
      "text/plain": [
       "<Figure size 1000x1000 with 1 Axes>"
      ]
     },
     "metadata": {},
     "output_type": "display_data"
    }
   ],
   "source": [
    "# Plot the clusters\n",
    "plt.figure(figsize=(10, 10))\n",
    "sns.scatterplot(x='CustomerAge', y='Amount', data=features, hue=predicted_clusters, palette='viridis')\n",
    "plt.title('Clusters')\n",
    "plt.show()"
   ]
  },
  {
   "cell_type": "markdown",
   "metadata": {
    "collapsed": false
   },
   "source": [
    "### Evaluación del modelo"
   ]
  },
  {
   "cell_type": "code",
   "execution_count": 18,
   "metadata": {
    "ExecuteTime": {
     "end_time": "2024-02-14T05:41:03.811793200Z",
     "start_time": "2024-02-14T04:38:47.772724Z"
    },
    "collapsed": false
   },
   "outputs": [
    {
     "ename": "NameError",
     "evalue": "name 'predicted_clusters' is not defined",
     "output_type": "error",
     "traceback": [
      "\u001b[1;31m---------------------------------------------------------------------------\u001b[0m",
      "\u001b[1;31mNameError\u001b[0m                                 Traceback (most recent call last)",
      "Cell \u001b[1;32mIn[18], line 4\u001b[0m\n\u001b[0;32m      1\u001b[0m \u001b[38;5;66;03m# Silhouette score\u001b[39;00m\n\u001b[0;32m      2\u001b[0m \u001b[38;5;28;01mfrom\u001b[39;00m \u001b[38;5;21;01msklearn\u001b[39;00m\u001b[38;5;21;01m.\u001b[39;00m\u001b[38;5;21;01mmetrics\u001b[39;00m \u001b[38;5;28;01mimport\u001b[39;00m silhouette_score\n\u001b[1;32m----> 4\u001b[0m silhouette_score(scaled_features, \u001b[43mpredicted_clusters\u001b[49m)\n",
      "\u001b[1;31mNameError\u001b[0m: name 'predicted_clusters' is not defined"
     ]
    }
   ],
   "source": [
    "# Silhouette score\n",
    "from sklearn.metrics import silhouette_score\n",
    "\n",
    "silhouette_score(scaled_features, predicted_clusters)"
   ]
  },
  {
   "cell_type": "markdown",
   "metadata": {
    "collapsed": false
   },
   "source": [
    "El modelo tiene un silhouette score de 0.42, lo que indica que los clusters están parcialmente definidos; parcialmente debido a que, cómo puede observarse en la parte superior, la distribución de los datos no permite que los clusters sean tan precisos. Sin embargo, nos da una idea de como pueden estar agrupados los clientes. Esta métrica fue seleccionada, ya que es una medida de cuán similar es un punto a su propio cluster (cohesión) en comparación con otros clusters (separación). El valor de la métrica es entre -1 y 1, donde un valor cercano a 1 indica que el punto está bien clasificado."
   ]
  },
  {
   "cell_type": "markdown",
   "metadata": {},
   "source": [
    "## Modelo con librerías"
   ]
  },
  {
   "cell_type": "code",
   "execution_count": 41,
   "metadata": {},
   "outputs": [],
   "source": [
    "kmeans = KMeans(n_clusters=5, random_state=7)\n",
    "pred_y = kmeans.fit_predict(scaled_features)"
   ]
  },
  {
   "cell_type": "code",
   "execution_count": 74,
   "metadata": {},
   "outputs": [
    {
     "data": {
      "image/png": "[encoded data removed]",
      "text/plain": [
       "<Figure size 640x480 with 1 Axes>"
      ]
     },
     "metadata": {},
     "output_type": "display_data"
    }
   ],
   "source": [
    "plt.scatter(x='CustomerAge', y='Amount', data=features, c=pred_y)\n",
    "plt.xlabel('CustomerAge')\n",
    "plt.ylabel('Amount')\n",
    "plt.title('Clusters: Customer Segmentation')\n",
    "plt.show()"
   ]
  },
  {
   "cell_type": "code",
   "execution_count": 44,
   "metadata": {},
   "outputs": [
    {
     "name": "stdout",
     "output_type": "stream",
     "text": [
      "Silhouette Score:  0.5337491684335006\n"
     ]
    }
   ],
   "source": [
    "score = silhouette_score(scaled_features, pred_y)\n",
    "print('Silhouette Score: ', score)"
   ]
  },
  {
   "cell_type": "markdown",
   "metadata": {},
   "source": [
    "Esta implementación devuelve una métrica de desempeño de 0.53, lo cual es aceptable ya que el Silhouette Score busca valores entre -1 y 1. Un valor cercano a 1 indica que las muestras están bien agrupadas en sus propios cluster y lejos de otros. En este caso, por el valor obtenido, al ser una puntuación ligeramente por encima de 0.5 puede considerarse bastante buena conociendo la distribución de los features seleccionados."
   ]
  },
  {
   "cell_type": "markdown",
   "metadata": {},
   "source": [
    "### Comparación de resultados\n",
    "La mejor la implementación del modelo fue la realizada con librerías debido a que brindó una métrica de desempeño más cercana al agrupamiento deseado. Esto se debe a que al utilizar las librerías de aprendizaje automático de python nos brindan mayor optimización y funcionalidades en los distintos grupos de datos."
   ]
  },
  {
   "cell_type": "markdown",
   "metadata": {},
   "source": [
    "# Task 2.2 Mixture Models"
   ]
  },
  {
   "cell_type": "markdown",
   "metadata": {},
   "source": [
    "### ¿Podría PCA ayudarle a mejorar sus clusters? ¿Por qué?\n",
    "Sí, el Análisis de Componentes Principales puede mejorar los clusters porque se reduce la dimencionalidad de los datos que favorece en la distancia entre los pares de puntos. Además, para la visualización de datos se vería beneficioso en su dispersión."
   ]
  },
  {
   "cell_type": "markdown",
   "metadata": {},
   "source": [
    "## Modelo sin librerías"
   ]
  },
  {
   "cell_type": "code",
   "execution_count": 42,
   "metadata": {},
   "outputs": [],
   "source": [
    "n_components = 5\n",
    "n_samples, n_features = scaled_features.shape\n",
    "\n",
    "pi = np.ones((n_components)) / n_components\n",
    "means = np.random.choice(n_samples, n_components)\n",
    "variances = np.random.random_sample(size=n_components)\n",
    "\n"
   ]
  },
  {
   "cell_type": "code",
   "execution_count": 43,
   "metadata": {},
   "outputs": [],
   "source": [
    "n_samples, n_features = scaled_features.shape\n",
    "weights = np.zeros((n_components,n_samples))\n",
    "\n",
    "def step_expectation(samples,n_components,means):\n",
    "    weights = np.zeros((n_components,samples))\n",
    "    for i in range(n_components):   \n",
    "        weights[i,:] = np.linalg.norm(scaled_features - means[i], axis=1)\n",
    "    return weights\n"
   ]
  },
  {
   "cell_type": "code",
   "execution_count": 44,
   "metadata": {},
   "outputs": [],
   "source": [
    "def step_maximization( weights, n_components, pi, means, variances):\n",
    "    r = []\n",
    "    for j in range(n_components):  \n",
    "        r.append((weights[j] * pi[j]) / (np.sum([weights[i] * pi[i] for i in range(n_components)], axis=0)))\n",
    "\n",
    "        means[j] = np.sum(r[j] * scaled_features) / (np.sum(r[j]))\n",
    "        variances[j] = np.sum(r[j] * np.square(scaled_features - means[j])) / (np.sum(r[j]))\n",
    "        \n",
    "        pi[j] = np.mean(r[j])\n",
    "    return variances,means,pi"
   ]
  },
  {
   "cell_type": "code",
   "execution_count": 45,
   "metadata": {},
   "outputs": [
    {
     "name": "stdout",
     "output_type": "stream",
     "text": [
      "Unexpected exception formatting exception. Falling back to standard exception\n"
     ]
    },
    {
     "name": "stderr",
     "output_type": "stream",
     "text": [
      "Traceback (most recent call last):\n",
      "  File \"c:\\Users\\euroc\\Desktop\\U\\IA\\IA-Phising-Website-Detection\\.venv\\lib\\site-packages\\IPython\\core\\interactiveshell.py\", line 3550, in run_code\n",
      "    exec(code_obj, self.user_global_ns, self.user_ns)\n",
      "  File \"C:\\Users\\euroc\\AppData\\Local\\Temp\\ipykernel_1492\\201277883.py\", line 4, in <module>\n",
      "    variances,means,pi = step_maximization(weights, n_components, pi, means, variances)\n",
      "  File \"C:\\Users\\euroc\\AppData\\Local\\Temp\\ipykernel_1492\\2641185995.py\", line 6, in step_maximization\n",
      "    means[j] = np.sum(r[j] * scaled_features) / (np.sum(r[j]))\n",
      "  File \"c:\\Users\\euroc\\Desktop\\U\\IA\\IA-Phising-Website-Detection\\.venv\\lib\\site-packages\\pandas\\core\\generic.py\", line 2168, in __array_ufunc__\n",
      "    return arraylike.array_ufunc(self, ufunc, method, *inputs, **kwargs)\n",
      "  File \"c:\\Users\\euroc\\Desktop\\U\\IA\\IA-Phising-Website-Detection\\.venv\\lib\\site-packages\\pandas\\core\\arraylike.py\", line 276, in array_ufunc\n",
      "    result = maybe_dispatch_ufunc_to_dunder_op(self, ufunc, method, *inputs, **kwargs)\n",
      "  File \"ops_dispatch.pyx\", line 113, in pandas._libs.ops_dispatch.maybe_dispatch_ufunc_to_dunder_op\n",
      "  File \"c:\\Users\\euroc\\Desktop\\U\\IA\\IA-Phising-Website-Detection\\.venv\\lib\\site-packages\\pandas\\core\\ops\\common.py\", line 76, in new_method\n",
      "    return method(self, other)\n",
      "  File \"c:\\Users\\euroc\\Desktop\\U\\IA\\IA-Phising-Website-Detection\\.venv\\lib\\site-packages\\pandas\\core\\arraylike.py\", line 206, in __rmul__\n",
      "    return self._arith_method(other, roperator.rmul)\n",
      "  File \"c:\\Users\\euroc\\Desktop\\U\\IA\\IA-Phising-Website-Detection\\.venv\\lib\\site-packages\\pandas\\core\\frame.py\", line 7894, in _arith_method\n",
      "    self, other = self._align_for_op(other, axis, flex=True, level=None)\n",
      "  File \"c:\\Users\\euroc\\Desktop\\U\\IA\\IA-Phising-Website-Detection\\.venv\\lib\\site-packages\\pandas\\core\\frame.py\", line 8125, in _align_for_op\n",
      "    right = to_series(right)\n",
      "  File \"c:\\Users\\euroc\\Desktop\\U\\IA\\IA-Phising-Website-Detection\\.venv\\lib\\site-packages\\pandas\\core\\frame.py\", line 8117, in to_series\n",
      "    raise ValueError(\n",
      "ValueError: Unable to coerce to Series, length must be 4: given 545798\n",
      "\n",
      "During handling of the above exception, another exception occurred:\n",
      "\n",
      "Traceback (most recent call last):\n",
      "  File \"c:\\Users\\euroc\\Desktop\\U\\IA\\IA-Phising-Website-Detection\\.venv\\lib\\site-packages\\IPython\\core\\interactiveshell.py\", line 2144, in showtraceback\n",
      "    stb = self.InteractiveTB.structured_traceback(\n",
      "  File \"c:\\Users\\euroc\\Desktop\\U\\IA\\IA-Phising-Website-Detection\\.venv\\lib\\site-packages\\IPython\\core\\ultratb.py\", line 1435, in structured_traceback\n",
      "    return FormattedTB.structured_traceback(\n",
      "  File \"c:\\Users\\euroc\\Desktop\\U\\IA\\IA-Phising-Website-Detection\\.venv\\lib\\site-packages\\IPython\\core\\ultratb.py\", line 1326, in structured_traceback\n",
      "    return VerboseTB.structured_traceback(\n",
      "  File \"c:\\Users\\euroc\\Desktop\\U\\IA\\IA-Phising-Website-Detection\\.venv\\lib\\site-packages\\IPython\\core\\ultratb.py\", line 1173, in structured_traceback\n",
      "    formatted_exception = self.format_exception_as_a_whole(etype, evalue, etb, number_of_lines_of_context,\n",
      "  File \"c:\\Users\\euroc\\Desktop\\U\\IA\\IA-Phising-Website-Detection\\.venv\\lib\\site-packages\\IPython\\core\\ultratb.py\", line 1063, in format_exception_as_a_whole\n",
      "    self.get_records(etb, number_of_lines_of_context, tb_offset) if etb else []\n",
      "  File \"c:\\Users\\euroc\\Desktop\\U\\IA\\IA-Phising-Website-Detection\\.venv\\lib\\site-packages\\IPython\\core\\ultratb.py\", line 1155, in get_records\n",
      "    FrameInfo(\n",
      "  File \"c:\\Users\\euroc\\Desktop\\U\\IA\\IA-Phising-Website-Detection\\.venv\\lib\\site-packages\\IPython\\core\\ultratb.py\", line 780, in __init__\n",
      "    ix = inspect.getsourcelines(frame)\n",
      "  File \"c:\\Users\\euroc\\AppData\\Local\\Programs\\Python\\Python39\\lib\\inspect.py\", line 1006, in getsourcelines\n",
      "    lines, lnum = findsource(object)\n",
      "  File \"c:\\Users\\euroc\\AppData\\Local\\Programs\\Python\\Python39\\lib\\inspect.py\", line 835, in findsource\n",
      "    raise OSError('could not get source code')\n",
      "OSError: could not get source code\n"
     ]
    }
   ],
   "source": [
    "n_steps = 20\n",
    "for step in range(n_steps):\n",
    "    weights = step_expectation(n_samples,n_components,means)\n",
    "    variances,means,pi = step_maximization(weights, n_components, pi, means, variances)"
   ]
  },
  {
   "cell_type": "markdown",
   "metadata": {},
   "source": [
    "## Modelo con librerías"
   ]
  },
  {
   "cell_type": "code",
   "execution_count": 105,
   "metadata": {},
   "outputs": [
    {
     "ename": "KeyboardInterrupt",
     "evalue": "",
     "output_type": "error",
     "traceback": [
      "\u001b[1;31m---------------------------------------------------------------------------\u001b[0m",
      "\u001b[1;31mKeyboardInterrupt\u001b[0m                         Traceback (most recent call last)",
      "Cell \u001b[1;32mIn[105], line 8\u001b[0m\n\u001b[0;32m      6\u001b[0m \u001b[38;5;28;01mfor\u001b[39;00m n_components \u001b[38;5;129;01min\u001b[39;00m n_components_range:\n\u001b[0;32m      7\u001b[0m     gmm \u001b[38;5;241m=\u001b[39m GaussianMixture(n_components\u001b[38;5;241m=\u001b[39mn_components, random_state\u001b[38;5;241m=\u001b[39m\u001b[38;5;241m7\u001b[39m)\n\u001b[1;32m----> 8\u001b[0m     \u001b[43mgmm\u001b[49m\u001b[38;5;241;43m.\u001b[39;49m\u001b[43mfit\u001b[49m\u001b[43m(\u001b[49m\u001b[43mscaled_features\u001b[49m\u001b[43m)\u001b[49m\n\u001b[0;32m      9\u001b[0m     bic\u001b[38;5;241m.\u001b[39mappend(gmm\u001b[38;5;241m.\u001b[39mbic(scaled_features))\n\u001b[0;32m     11\u001b[0m \u001b[38;5;66;03m# Graficar la curva del codo (BIC)\u001b[39;00m\n",
      "File \u001b[1;32mc:\\Users\\euroc\\Desktop\\U\\IA\\IA-Phising-Website-Detection\\.venv\\lib\\site-packages\\sklearn\\mixture\\_base.py:181\u001b[0m, in \u001b[0;36mBaseMixture.fit\u001b[1;34m(self, X, y)\u001b[0m\n\u001b[0;32m    155\u001b[0m \u001b[38;5;250m\u001b[39m\u001b[38;5;124;03m\"\"\"Estimate model parameters with the EM algorithm.\u001b[39;00m\n\u001b[0;32m    156\u001b[0m \n\u001b[0;32m    157\u001b[0m \u001b[38;5;124;03mThe method fits the model ``n_init`` times and sets the parameters with\u001b[39;00m\n\u001b[1;32m   (...)\u001b[0m\n\u001b[0;32m    178\u001b[0m \u001b[38;5;124;03m    The fitted mixture.\u001b[39;00m\n\u001b[0;32m    179\u001b[0m \u001b[38;5;124;03m\"\"\"\u001b[39;00m\n\u001b[0;32m    180\u001b[0m \u001b[38;5;66;03m# parameters are validated in fit_predict\u001b[39;00m\n\u001b[1;32m--> 181\u001b[0m \u001b[38;5;28;43mself\u001b[39;49m\u001b[38;5;241;43m.\u001b[39;49m\u001b[43mfit_predict\u001b[49m\u001b[43m(\u001b[49m\u001b[43mX\u001b[49m\u001b[43m,\u001b[49m\u001b[43m \u001b[49m\u001b[43my\u001b[49m\u001b[43m)\u001b[49m\n\u001b[0;32m    182\u001b[0m \u001b[38;5;28;01mreturn\u001b[39;00m \u001b[38;5;28mself\u001b[39m\n",
      "File \u001b[1;32mc:\\Users\\euroc\\Desktop\\U\\IA\\IA-Phising-Website-Detection\\.venv\\lib\\site-packages\\sklearn\\base.py:1351\u001b[0m, in \u001b[0;36m_fit_context.<locals>.decorator.<locals>.wrapper\u001b[1;34m(estimator, *args, **kwargs)\u001b[0m\n\u001b[0;32m   1344\u001b[0m     estimator\u001b[38;5;241m.\u001b[39m_validate_params()\n\u001b[0;32m   1346\u001b[0m \u001b[38;5;28;01mwith\u001b[39;00m config_context(\n\u001b[0;32m   1347\u001b[0m     skip_parameter_validation\u001b[38;5;241m=\u001b[39m(\n\u001b[0;32m   1348\u001b[0m         prefer_skip_nested_validation \u001b[38;5;129;01mor\u001b[39;00m global_skip_validation\n\u001b[0;32m   1349\u001b[0m     )\n\u001b[0;32m   1350\u001b[0m ):\n\u001b[1;32m-> 1351\u001b[0m     \u001b[38;5;28;01mreturn\u001b[39;00m fit_method(estimator, \u001b[38;5;241m*\u001b[39margs, \u001b[38;5;241m*\u001b[39m\u001b[38;5;241m*\u001b[39mkwargs)\n",
      "File \u001b[1;32mc:\\Users\\euroc\\Desktop\\U\\IA\\IA-Phising-Website-Detection\\.venv\\lib\\site-packages\\sklearn\\mixture\\_base.py:235\u001b[0m, in \u001b[0;36mBaseMixture.fit_predict\u001b[1;34m(self, X, y)\u001b[0m\n\u001b[0;32m    232\u001b[0m \u001b[38;5;28mself\u001b[39m\u001b[38;5;241m.\u001b[39m_print_verbose_msg_init_beg(init)\n\u001b[0;32m    234\u001b[0m \u001b[38;5;28;01mif\u001b[39;00m do_init:\n\u001b[1;32m--> 235\u001b[0m     \u001b[38;5;28;43mself\u001b[39;49m\u001b[38;5;241;43m.\u001b[39;49m\u001b[43m_initialize_parameters\u001b[49m\u001b[43m(\u001b[49m\u001b[43mX\u001b[49m\u001b[43m,\u001b[49m\u001b[43m \u001b[49m\u001b[43mrandom_state\u001b[49m\u001b[43m)\u001b[49m\n\u001b[0;32m    237\u001b[0m lower_bound \u001b[38;5;241m=\u001b[39m \u001b[38;5;241m-\u001b[39mnp\u001b[38;5;241m.\u001b[39minf \u001b[38;5;28;01mif\u001b[39;00m do_init \u001b[38;5;28;01melse\u001b[39;00m \u001b[38;5;28mself\u001b[39m\u001b[38;5;241m.\u001b[39mlower_bound_\n\u001b[0;32m    239\u001b[0m \u001b[38;5;28;01mif\u001b[39;00m \u001b[38;5;28mself\u001b[39m\u001b[38;5;241m.\u001b[39mmax_iter \u001b[38;5;241m==\u001b[39m \u001b[38;5;241m0\u001b[39m:\n",
      "File \u001b[1;32mc:\\Users\\euroc\\Desktop\\U\\IA\\IA-Phising-Website-Detection\\.venv\\lib\\site-packages\\sklearn\\mixture\\_gaussian_mixture.py:766\u001b[0m, in \u001b[0;36mGaussianMixture._initialize_parameters\u001b[1;34m(self, X, random_state)\u001b[0m\n\u001b[0;32m    760\u001b[0m compute_resp \u001b[38;5;241m=\u001b[39m (\n\u001b[0;32m    761\u001b[0m     \u001b[38;5;28mself\u001b[39m\u001b[38;5;241m.\u001b[39mweights_init \u001b[38;5;129;01mis\u001b[39;00m \u001b[38;5;28;01mNone\u001b[39;00m\n\u001b[0;32m    762\u001b[0m     \u001b[38;5;129;01mor\u001b[39;00m \u001b[38;5;28mself\u001b[39m\u001b[38;5;241m.\u001b[39mmeans_init \u001b[38;5;129;01mis\u001b[39;00m \u001b[38;5;28;01mNone\u001b[39;00m\n\u001b[0;32m    763\u001b[0m     \u001b[38;5;129;01mor\u001b[39;00m \u001b[38;5;28mself\u001b[39m\u001b[38;5;241m.\u001b[39mprecisions_init \u001b[38;5;129;01mis\u001b[39;00m \u001b[38;5;28;01mNone\u001b[39;00m\n\u001b[0;32m    764\u001b[0m )\n\u001b[0;32m    765\u001b[0m \u001b[38;5;28;01mif\u001b[39;00m compute_resp:\n\u001b[1;32m--> 766\u001b[0m     \u001b[38;5;28;43msuper\u001b[39;49m\u001b[43m(\u001b[49m\u001b[43m)\u001b[49m\u001b[38;5;241;43m.\u001b[39;49m\u001b[43m_initialize_parameters\u001b[49m\u001b[43m(\u001b[49m\u001b[43mX\u001b[49m\u001b[43m,\u001b[49m\u001b[43m \u001b[49m\u001b[43mrandom_state\u001b[49m\u001b[43m)\u001b[49m\n\u001b[0;32m    767\u001b[0m \u001b[38;5;28;01melse\u001b[39;00m:\n\u001b[0;32m    768\u001b[0m     \u001b[38;5;28mself\u001b[39m\u001b[38;5;241m.\u001b[39m_initialize(X, \u001b[38;5;28;01mNone\u001b[39;00m)\n",
      "File \u001b[1;32mc:\\Users\\euroc\\Desktop\\U\\IA\\IA-Phising-Website-Detection\\.venv\\lib\\site-packages\\sklearn\\mixture\\_base.py:115\u001b[0m, in \u001b[0;36mBaseMixture._initialize_parameters\u001b[1;34m(self, X, random_state)\u001b[0m\n\u001b[0;32m    112\u001b[0m \u001b[38;5;28;01mif\u001b[39;00m \u001b[38;5;28mself\u001b[39m\u001b[38;5;241m.\u001b[39minit_params \u001b[38;5;241m==\u001b[39m \u001b[38;5;124m\"\u001b[39m\u001b[38;5;124mkmeans\u001b[39m\u001b[38;5;124m\"\u001b[39m:\n\u001b[0;32m    113\u001b[0m     resp \u001b[38;5;241m=\u001b[39m np\u001b[38;5;241m.\u001b[39mzeros((n_samples, \u001b[38;5;28mself\u001b[39m\u001b[38;5;241m.\u001b[39mn_components))\n\u001b[0;32m    114\u001b[0m     label \u001b[38;5;241m=\u001b[39m (\n\u001b[1;32m--> 115\u001b[0m         \u001b[43mcluster\u001b[49m\u001b[38;5;241;43m.\u001b[39;49m\u001b[43mKMeans\u001b[49m\u001b[43m(\u001b[49m\n\u001b[0;32m    116\u001b[0m \u001b[43m            \u001b[49m\u001b[43mn_clusters\u001b[49m\u001b[38;5;241;43m=\u001b[39;49m\u001b[38;5;28;43mself\u001b[39;49m\u001b[38;5;241;43m.\u001b[39;49m\u001b[43mn_components\u001b[49m\u001b[43m,\u001b[49m\u001b[43m \u001b[49m\u001b[43mn_init\u001b[49m\u001b[38;5;241;43m=\u001b[39;49m\u001b[38;5;241;43m1\u001b[39;49m\u001b[43m,\u001b[49m\u001b[43m \u001b[49m\u001b[43mrandom_state\u001b[49m\u001b[38;5;241;43m=\u001b[39;49m\u001b[43mrandom_state\u001b[49m\n\u001b[0;32m    117\u001b[0m \u001b[43m        \u001b[49m\u001b[43m)\u001b[49m\n\u001b[0;32m    118\u001b[0m \u001b[43m        \u001b[49m\u001b[38;5;241;43m.\u001b[39;49m\u001b[43mfit\u001b[49m\u001b[43m(\u001b[49m\u001b[43mX\u001b[49m\u001b[43m)\u001b[49m\n\u001b[0;32m    119\u001b[0m         \u001b[38;5;241m.\u001b[39mlabels_\n\u001b[0;32m    120\u001b[0m     )\n\u001b[0;32m    121\u001b[0m     resp[np\u001b[38;5;241m.\u001b[39marange(n_samples), label] \u001b[38;5;241m=\u001b[39m \u001b[38;5;241m1\u001b[39m\n\u001b[0;32m    122\u001b[0m \u001b[38;5;28;01melif\u001b[39;00m \u001b[38;5;28mself\u001b[39m\u001b[38;5;241m.\u001b[39minit_params \u001b[38;5;241m==\u001b[39m \u001b[38;5;124m\"\u001b[39m\u001b[38;5;124mrandom\u001b[39m\u001b[38;5;124m\"\u001b[39m:\n",
      "File \u001b[1;32mc:\\Users\\euroc\\Desktop\\U\\IA\\IA-Phising-Website-Detection\\.venv\\lib\\site-packages\\sklearn\\base.py:1351\u001b[0m, in \u001b[0;36m_fit_context.<locals>.decorator.<locals>.wrapper\u001b[1;34m(estimator, *args, **kwargs)\u001b[0m\n\u001b[0;32m   1344\u001b[0m     estimator\u001b[38;5;241m.\u001b[39m_validate_params()\n\u001b[0;32m   1346\u001b[0m \u001b[38;5;28;01mwith\u001b[39;00m config_context(\n\u001b[0;32m   1347\u001b[0m     skip_parameter_validation\u001b[38;5;241m=\u001b[39m(\n\u001b[0;32m   1348\u001b[0m         prefer_skip_nested_validation \u001b[38;5;129;01mor\u001b[39;00m global_skip_validation\n\u001b[0;32m   1349\u001b[0m     )\n\u001b[0;32m   1350\u001b[0m ):\n\u001b[1;32m-> 1351\u001b[0m     \u001b[38;5;28;01mreturn\u001b[39;00m fit_method(estimator, \u001b[38;5;241m*\u001b[39margs, \u001b[38;5;241m*\u001b[39m\u001b[38;5;241m*\u001b[39mkwargs)\n",
      "File \u001b[1;32mc:\\Users\\euroc\\Desktop\\U\\IA\\IA-Phising-Website-Detection\\.venv\\lib\\site-packages\\sklearn\\cluster\\_kmeans.py:1565\u001b[0m, in \u001b[0;36mKMeans.fit\u001b[1;34m(self, X, y, sample_weight)\u001b[0m\n\u001b[0;32m   1562\u001b[0m         X \u001b[38;5;241m+\u001b[39m\u001b[38;5;241m=\u001b[39m X_mean\n\u001b[0;32m   1563\u001b[0m     best_centers \u001b[38;5;241m+\u001b[39m\u001b[38;5;241m=\u001b[39m X_mean\n\u001b[1;32m-> 1565\u001b[0m distinct_clusters \u001b[38;5;241m=\u001b[39m \u001b[38;5;28;43mlen\u001b[39;49m\u001b[43m(\u001b[49m\u001b[38;5;28;43mset\u001b[39;49m\u001b[43m(\u001b[49m\u001b[43mbest_labels\u001b[49m\u001b[43m)\u001b[49m\u001b[43m)\u001b[49m\n\u001b[0;32m   1566\u001b[0m \u001b[38;5;28;01mif\u001b[39;00m distinct_clusters \u001b[38;5;241m<\u001b[39m \u001b[38;5;28mself\u001b[39m\u001b[38;5;241m.\u001b[39mn_clusters:\n\u001b[0;32m   1567\u001b[0m     warnings\u001b[38;5;241m.\u001b[39mwarn(\n\u001b[0;32m   1568\u001b[0m         \u001b[38;5;124m\"\u001b[39m\u001b[38;5;124mNumber of distinct clusters (\u001b[39m\u001b[38;5;132;01m{}\u001b[39;00m\u001b[38;5;124m) found smaller than \u001b[39m\u001b[38;5;124m\"\u001b[39m\n\u001b[0;32m   1569\u001b[0m         \u001b[38;5;124m\"\u001b[39m\u001b[38;5;124mn_clusters (\u001b[39m\u001b[38;5;132;01m{}\u001b[39;00m\u001b[38;5;124m). Possibly due to duplicate points \u001b[39m\u001b[38;5;124m\"\u001b[39m\n\u001b[1;32m   (...)\u001b[0m\n\u001b[0;32m   1572\u001b[0m         stacklevel\u001b[38;5;241m=\u001b[39m\u001b[38;5;241m2\u001b[39m,\n\u001b[0;32m   1573\u001b[0m     )\n",
      "\u001b[1;31mKeyboardInterrupt\u001b[0m: "
     ]
    }
   ],
   "source": [
    "from sklearn.mixture import GaussianMixture\n",
    "from sklearn.preprocessing import StandardScaler\n",
    "\n",
    "bic = []\n",
    "n_components_range = range(2, 11)\n",
    "for n_components in n_components_range:\n",
    "    gmm = GaussianMixture(n_components=n_components, random_state=7)\n",
    "    gmm.fit(scaled_features)\n",
    "    bic.append(gmm.bic(scaled_features))\n",
    "\n",
    "# Graficar la curva del codo (BIC)\n",
    "plt.plot(n_components_range, bic, marker='o')\n",
    "plt.title('Curva del codo para GMM')\n",
    "plt.xlabel('Número de componentes')\n",
    "plt.ylabel('BIC')\n",
    "plt.xticks(n_components_range)\n",
    "plt.show()"
   ]
  },
  {
   "cell_type": "code",
   "execution_count": 83,
   "metadata": {},
   "outputs": [],
   "source": [
    "gmm = GaussianMixture(n_components=5, random_state=7)\n",
    "gmm.fit(scaled_features)\n",
    "y_gmm = gmm.predict(scaled_features)"
   ]
  },
  {
   "cell_type": "code",
   "execution_count": 113,
   "metadata": {},
   "outputs": [],
   "source": [
    "import numpy as np\n",
    "import matplotlib.pyplot as plt\n",
    "from matplotlib.patches import Ellipse\n",
    "from scipy.stats import chi2\n",
    "\n",
    "def draw_ellipse(position, covariance, ax, n_std=2.0, **kwargs):\n",
    "    \"\"\"\n",
    "    Dibuja una elipse con una posición y covarianza dadas.\n",
    "    \"\"\"\n",
    "    # Calcula los vectores y valores propios de la matriz de covarianza\n",
    "    eigenvals, eigenvecs = np.linalg.eigh(covariance)\n",
    "    order = eigenvals.argsort()[::-1]\n",
    "    eigenvals, eigenvecs = eigenvals[order], eigenvecs[:, order]\n",
    "\n",
    "    # Calcula el ángulo y los dos ejes de la elipse\n",
    "    angle = np.degrees(np.arctan2(*eigenvecs[:, 0][::-1]))\n",
    "    width, height = 2 * n_std * np.sqrt(eigenvals)\n",
    "\n",
    "    # Crea y añade la elipse\n",
    "    ellipse = Ellipse(position, width, height, angle, **kwargs)\n",
    "    ax.add_patch(ellipse)\n",
    "\n",
    "def plot_gmm(gmm, X):\n",
    "    ax = plt.gca()\n",
    "    labels = gmm.predict(X)\n",
    "    \n",
    "    # Dibuja los puntos y los colorea según el cluster\n",
    "    for i, label in enumerate(np.unique(labels)):\n",
    "        ax.scatter(X[labels == label, 0], X[labels == label, 1], s=10, label=f'Cluster {i}')\n",
    "\n",
    "    # Dibuja las elipses para cada cluster\n",
    "    for i, (mean, covar) in enumerate(zip(gmm.means_, gmm.covariances_)):\n",
    "        draw_ellipse(mean, covar, ax, n_std=2.0, alpha=0.5, color='red')\n",
    "\n",
    "    ax.set_title('Gaussian Mixture Model Clusters')\n",
    "    ax.set_xlabel('CustomerAge')\n",
    "    ax.set_ylabel('Amount')\n",
    "    plt.legend()\n",
    "    plt.show()"
   ]
  },
  {
   "cell_type": "code",
   "execution_count": 110,
   "metadata": {},
   "outputs": [
    {
     "name": "stdout",
     "output_type": "stream",
     "text": [
      "Silhouette Score:  0.30706993352543144\n"
     ]
    }
   ],
   "source": [
    "score = silhouette_score(scaled_features, y_gmm)\n",
    "print('Silhouette Score: ', score)"
   ]
  },
  {
   "cell_type": "markdown",
   "metadata": {},
   "source": [
    "### Comparación de resultados\n"
   ]
  },
  {
   "cell_type": "markdown",
   "metadata": {},
   "source": [
    "## Comparación de modelos 'K-Means' y 'Mixture Models'\n",
    "### ¿Cuál es mejor? ¿Por qué?\n",
    "\n",
    "### Considerando sus resultados, ¿cuándo cree que es mejor usar Mixture Models y K-Means?"
   ]
  }
 ],
 "metadata": {
  "kernelspec": {
   "display_name": ".venv",
   "language": "python",
   "name": "python3"
  },
  "language_info": {
   "codemirror_mode": {
    "name": "ipython",
    "version": 3
   },
   "file_extension": ".py",
   "mimetype": "text/x-python",
   "name": "python",
   "nbconvert_exporter": "python",
   "pygments_lexer": "ipython3",
   "version": "3.9.13"
  }
 },
 "nbformat": 4,
 "nbformat_minor": 4
}
